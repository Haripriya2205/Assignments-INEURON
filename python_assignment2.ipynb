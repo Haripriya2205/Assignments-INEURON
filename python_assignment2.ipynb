{
 "cells": [
  {
   "cell_type": "markdown",
   "id": "c7b3dcb2",
   "metadata": {},
   "source": [
    "1. What are the two values of the Boolean data type? How do you write them?\n",
    "       1. True  -bool(1)\n",
    "       2. False -bool(0)\n",
    "\n"
   ]
  },
  {
   "cell_type": "markdown",
   "id": "241585db",
   "metadata": {},
   "source": [
    "2. What are the three different types of Boolean operators?\n",
    "        and\n",
    "        or\n",
    "        not\n",
    "\n"
   ]
  },
  {
   "cell_type": "markdown",
   "id": "4e5fb78e",
   "metadata": {},
   "source": [
    "3. Make a list of each Boolean operator's truth tables (i.e. every possible combination of Boolean values for the operator and what it evaluate ).\n",
    "\n",
    "\n",
    "\t\t\t\n",
    "\t\t\t\n",
    "\t\t\t\n",
    "\t\t\t\n",
    "\t\t\t\n",
    "\t\t\t"
   ]
  },
  {
   "attachments": {
    "BOOLEAN.png": {
     "image/png": "[encoded data removed]"
    }
   },
   "cell_type": "markdown",
   "id": "9ada96c9",
   "metadata": {},
   "source": [
    "![BOOLEAN.png](attachment:BOOLEAN.png)"
   ]
  },
  {
   "cell_type": "markdown",
   "id": "a49f01ef",
   "metadata": {},
   "source": [
    "4. What are the values of the following expressions?\n",
    "        (5 > 4) and (3 == 5)                - True and False\n",
    "         not (5 > 4)                        - False\n",
    "        (5 > 4) or (3 == 5)                 - True\n",
    "        not ((5 > 4) or (3 == 5))           - False\n",
    "        (True and True) and (True == False) - False\n",
    "        (not False) or (not True)           - True\n",
    "\n",
    "\n"
   ]
  },
  {
   "cell_type": "markdown",
   "id": "d3b21045",
   "metadata": {},
   "source": [
    "5. What are the six comparison operators?\n",
    "   \n",
    "    1. **>**\n",
    "    2. **<**\n",
    "    3. **>=**\n",
    "    4. **<=**\n",
    "    5. **==**\n",
    "    6. **!=**"
   ]
  },
  {
   "cell_type": "markdown",
   "id": "7fa8166c",
   "metadata": {},
   "source": [
    "\n",
    "6. How do you tell the difference between the equal to and assignment operators?Describe a condition and when you would use one.\n",
    "        The \"=\" is an assignment operator is used to assign the value on the right to the variable on the left. Whereas, the \"==\" operator checks whether the two given operands are equal or not. If so, it returns true. Otherwise it returns false.\n",
    "    \n"
   ]
  },
  {
   "cell_type": "markdown",
   "id": "6ab56863",
   "metadata": {},
   "source": [
    "7. Identify the three blocks in this code:\n",
    "spam = 0\n",
    "if spam == 10:\n",
    "   print('eggs')\n",
    "if spam > 5:\n",
    "   print('bacon')\n",
    "else:\n",
    "   print('ham')\n",
    "   print('spam')\n",
    "   print('spam')\n",
    "  \n",
    "        block 1 : if\n",
    "        block 2 : if\n",
    "        block 3 : else\n",
    "   "
   ]
  },
  {
   "cell_type": "code",
   "execution_count": 1,
   "id": "aa88dd41",
   "metadata": {},
   "outputs": [
    {
     "name": "stdout",
     "output_type": "stream",
     "text": [
      "Greetings!\n"
     ]
    }
   ],
   "source": [
    "#8. Write code that prints Hello if 1 is stored in spam, prints Howdy if 2 is stored in spam, and prints Greetings! if anything else is stored in spam.\n",
    "\n",
    "spam=10\n",
    "if spam ==1:\n",
    "    print(\"Hello\")\n",
    "elif spam ==2:\n",
    "    print(\"Howdy\")\n",
    "else:\n",
    "    print(\"Greetings!\")"
   ]
  },
  {
   "cell_type": "markdown",
   "id": "fc12db43",
   "metadata": {},
   "source": [
    "9. If your programme is stuck in an endless loop, what keys you’ll press?\n",
    "        Ctrl + C\n",
    " "
   ]
  },
  {
   "cell_type": "markdown",
   "id": "b9562ab8",
   "metadata": {},
   "source": [
    "10. How can you tell the difference between break and continue? \n",
    "        Both Break and continue statements are used within loops. A break statement will immediately breaks/terminates the   loop and Continue statement will terminate the current iteration and gives control to next iteration."
   ]
  },
  {
   "cell_type": "markdown",
   "id": "f90194b6",
   "metadata": {},
   "source": [
    "#11.In a for loop, what is the difference between range(10), range(0, 10), and range(0, 10, 1)?\n",
    "\n",
    "    range(10) - The value 10 will be specifying the stop value of the loop and will be initialized with 0\n",
    "    range(0,10)-The value 0 will specifying the start value of the loop and value 10 will specifying the stop value of the  loop\n",
    "    range(0,10,1)- The value 0 specifying the start value and the value 10 specifying the stop value and the value 1 will be specifying the incrementation Value of the loop\n"
   ]
  },
  {
   "cell_type": "code",
   "execution_count": 11,
   "id": "d4eabb4d",
   "metadata": {},
   "outputs": [
    {
     "name": "stdout",
     "output_type": "stream",
     "text": [
      "1\n",
      "2\n",
      "3\n",
      "4\n",
      "5\n",
      "6\n",
      "7\n",
      "8\n",
      "9\n",
      "10\n"
     ]
    }
   ],
   "source": [
    "#12. Write a short program that prints the numbers 1 to 10 using a for loop. Then write an equivalent program that prints the numbers 1 to 10 using a while loop.\n",
    "for i in range (1,11):\n",
    "    print(i)"
   ]
  },
  {
   "cell_type": "code",
   "execution_count": 12,
   "id": "d51aed2b",
   "metadata": {},
   "outputs": [
    {
     "name": "stdout",
     "output_type": "stream",
     "text": [
      "1\n",
      "2\n",
      "3\n",
      "4\n",
      "5\n",
      "6\n",
      "7\n",
      "8\n",
      "9\n",
      "10\n"
     ]
    }
   ],
   "source": [
    "n=0\n",
    "while n<10:\n",
    "    n=n+1\n",
    "    print(n)\n",
    "    \n",
    "    "
   ]
  },
  {
   "cell_type": "markdown",
   "id": "1ea6ff5f",
   "metadata": {},
   "source": [
    "13. If you had a function named bacon() inside a module named spam, how would you call it after importing spam?\n",
    "        import spam\n",
    "        spam.bacon()"
   ]
  }
 ],
 "metadata": {
  "kernelspec": {
   "display_name": "Python 3 (ipykernel)",
   "language": "python",
   "name": "python3"
  },
  "language_info": {
   "codemirror_mode": {
    "name": "ipython",
    "version": 3
   },
   "file_extension": ".py",
   "mimetype": "text/x-python",
   "name": "python",
   "nbconvert_exporter": "python",
   "pygments_lexer": "ipython3",
   "version": "3.9.7"
  }
 },
 "nbformat": 4,
 "nbformat_minor": 5
}
