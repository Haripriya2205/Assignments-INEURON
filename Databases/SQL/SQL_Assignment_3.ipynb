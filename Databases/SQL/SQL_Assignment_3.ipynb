{
 "cells": [
  {
   "attachments": {},
   "cell_type": "markdown",
   "metadata": {},
   "source": [
    "\n",
    "Q-1. Write an SQL query to print the FIRST_NAME from Worker table after removing\n",
    "\n",
    "white spaces from the right side.\n",
    "\n",
    "        SELECT RTRIM(FIRST_NAME) AS FIRST_NAME\n",
    "\n",
    "        FROM Worker;\n",
    "\n",
    "Q-2. Write an SQL query that fetches the unique values of DEPARTMENT from Worker\n",
    "\n",
    "table and prints its length.\n",
    "\n",
    "         SELECT DISTINCT DEPARTMENT, LENGTH(DEPARTMENT) AS DEPARTMENT_LENGTH\n",
    "\n",
    "        FROM Worker;\n",
    "\n",
    "Q-3. Write an SQL query to fetch nth max salaries from a table.\n",
    "\n",
    "    # This query will fetch the nth highest salary from the table.\n",
    "\n",
    "    # For example, if n = 3, then the query will fetch the third highest salary.\n",
    "\n",
    "          SELECT Salary\n",
    "\n",
    "          FROM (\n",
    "\n",
    "            SELECT Salary, DENSE_RANK() OVER (ORDER BY Salary DESC) AS Rank\n",
    "\n",
    "            FROM Employee\n",
    "\n",
    "          ) AS RankedSalaries\n",
    "\n",
    "          WHERE Rank = n;"
   ]
  },
  {
   "attachments": {},
   "cell_type": "markdown",
   "metadata": {},
   "source": []
  }
 ],
 "metadata": {
  "language_info": {
   "name": "python"
  },
  "orig_nbformat": 4
 },
 "nbformat": 4,
 "nbformat_minor": 2
}
