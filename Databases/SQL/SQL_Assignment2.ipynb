{
 "cells": [
  {
   "cell_type": "markdown",
   "metadata": {},
   "source": [
    "Q-1. Write an SQL query to print the first three characters of  FIRST_NAME from Worker\n",
    "table.\n",
    "\n",
    "Ans: SELECT SUBSTRING(FIRST_NAME,1,3) FROM Worker;\n"
   ]
  },
  {
   "cell_type": "markdown",
   "metadata": {},
   "source": [
    "Q-2. Write an SQL query to find the position of the alphabet (‘a’) in the first name\n",
    "column ‘Amitabh’ from Worker table.\n",
    "\n",
    "Ans: SELECT POSITION('a' IN FIRST_NAME) FROM Worker WHERE FIRST_NAME = 'Amitabh';   "
   ]
  },
  {
   "cell_type": "markdown",
   "metadata": {},
   "source": [
    "Q-3. Write an SQL query to print the name of employees having the highest salary in each\n",
    "department.\n",
    "\n",
    "Ans: Ans: SELECT first_name, last_name, salary, department FROM Worker w WHERE salary = (SELECT MAX(salary) FROM Worker WHERE department = w.department)"
   ]
  }
 ],
 "metadata": {
  "interpreter": {
   "hash": "56ea6b1a410015e1475253f98954e9fae7f33cff6f4b2c2a2a3b952fda68b31a"
  },
  "kernelspec": {
   "display_name": "Python 3.9.7 ('base')",
   "language": "python",
   "name": "python3"
  },
  "language_info": {
   "name": "python",
   "version": "3.9.7"
  },
  "orig_nbformat": 4
 },
 "nbformat": 4,
 "nbformat_minor": 2
}
