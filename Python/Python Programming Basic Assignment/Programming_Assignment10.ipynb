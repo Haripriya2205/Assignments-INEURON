{
 "cells": [
  {
   "cell_type": "markdown",
   "metadata": {},
   "source": [
    "1. Write a Python program to find sum of elements in list?"
   ]
  },
  {
   "cell_type": "code",
   "execution_count": 23,
   "metadata": {},
   "outputs": [],
   "source": [
    "def sumlist():\n",
    "    sum=0\n",
    "    l=[]\n",
    "    n= int(input(\"Enter number of elements for list: \"))\n",
    "    for i in range(0,n):\n",
    "        element= int(input(\"Enter element: \"))\n",
    "        l.append(element)\n",
    "    print(\"The list is :\", l)\n",
    "    for i in l:\n",
    "        sum= sum+i\n",
    "    print(\"Sum of list is: \",sum)\n"
   ]
  },
  {
   "cell_type": "code",
   "execution_count": 20,
   "metadata": {},
   "outputs": [
    {
     "name": "stdout",
     "output_type": "stream",
     "text": [
      "The list is : [1, 2, 3, 4, 5]\n",
      "Sum of list is:  15\n"
     ]
    }
   ],
   "source": [
    "sumlist()"
   ]
  },
  {
   "cell_type": "markdown",
   "metadata": {},
   "source": [
    "2. Write a Python program to Multiply all numbers in the list?"
   ]
  },
  {
   "cell_type": "code",
   "execution_count": 3,
   "metadata": {},
   "outputs": [],
   "source": [
    "def mullist():\n",
    "    mul=1\n",
    "    l=[]\n",
    "    n= int(input(\"Enter number of elements for list: \"))\n",
    "    for i in range(0,n):\n",
    "        element= int(input(\"Enter element: \"))\n",
    "        l.append(element)\n",
    "    print(\"The list is :\", l)\n",
    "    for i in l:\n",
    "        mul= mul*i\n",
    "    print(\"Multiplication of list is: \",mul)"
   ]
  },
  {
   "cell_type": "code",
   "execution_count": 6,
   "metadata": {},
   "outputs": [
    {
     "name": "stdout",
     "output_type": "stream",
     "text": [
      "The list is : [5, 5, 5, 5, 5]\n",
      "Multiplication of list is:  3125\n"
     ]
    }
   ],
   "source": [
    "mullist()"
   ]
  },
  {
   "cell_type": "markdown",
   "metadata": {},
   "source": [
    "3. Write a Python program to find smallest number in a list?"
   ]
  },
  {
   "cell_type": "code",
   "execution_count": 1,
   "metadata": {},
   "outputs": [],
   "source": [
    "def minlist():\n",
    "    l=[]\n",
    "    n= int(input(\"Enter number of elements for list: \"))\n",
    "    for i in range(0,n):\n",
    "        element= int(input(\"Enter element: \"))\n",
    "        l.append(element)  \n",
    "    print(\"The list is :\", l)   \n",
    "    l.sort()\n",
    "    print('smallest no in list is: ', l[:1])\n"
   ]
  },
  {
   "cell_type": "code",
   "execution_count": 2,
   "metadata": {},
   "outputs": [
    {
     "name": "stdout",
     "output_type": "stream",
     "text": [
      "The list is : [12, 33, 65, 95, 84]\n",
      "smallest no in list is:  [12]\n"
     ]
    }
   ],
   "source": [
    "minlist()"
   ]
  },
  {
   "cell_type": "markdown",
   "metadata": {},
   "source": [
    "4. Write a Python program to find largest number in a list?"
   ]
  },
  {
   "cell_type": "code",
   "execution_count": 3,
   "metadata": {},
   "outputs": [],
   "source": [
    "def maxlist():\n",
    "    l=[]\n",
    "    n= int(input(\"Enter number of elements for list: \"))\n",
    "    for i in range(0,n):\n",
    "        element= int(input(\"Enter element: \"))\n",
    "        l.append(element)  \n",
    "    print(\"The list is :\", l)   \n",
    "    l.sort()\n",
    "    print('largest no in list is: ', l[-1])"
   ]
  },
  {
   "cell_type": "code",
   "execution_count": 4,
   "metadata": {},
   "outputs": [
    {
     "name": "stdout",
     "output_type": "stream",
     "text": [
      "The list is : [69, 456, 842, 43, 741]\n",
      "largest no in list is:  842\n"
     ]
    }
   ],
   "source": [
    "maxlist()"
   ]
  },
  {
   "cell_type": "markdown",
   "metadata": {},
   "source": [
    "5. Write a Python program to find second largest number in a list?"
   ]
  },
  {
   "cell_type": "code",
   "execution_count": 2,
   "metadata": {},
   "outputs": [],
   "source": [
    "def smaxlist():\n",
    "    l=[]\n",
    "    n= int(input(\"Enter number of elements for list: \"))\n",
    "    for i in range(0,n):\n",
    "        element= int(input(\"Enter element: \"))\n",
    "        l.append(element)  \n",
    "    print(\"The list is :\", l)   \n",
    "    l.sort()\n",
    "    print('Second largest no in list is: ', l[-2])"
   ]
  },
  {
   "cell_type": "code",
   "execution_count": 3,
   "metadata": {},
   "outputs": [
    {
     "name": "stdout",
     "output_type": "stream",
     "text": [
      "The list is : [52, 666, 456, 741, 963]\n",
      "Second largest no in list is:  741\n"
     ]
    }
   ],
   "source": [
    "smaxlist()"
   ]
  },
  {
   "cell_type": "markdown",
   "metadata": {},
   "source": [
    "6. Write a Python program to find N largest elements from a list?"
   ]
  },
  {
   "cell_type": "code",
   "execution_count": 15,
   "metadata": {},
   "outputs": [],
   "source": [
    "def nmaxlist():\n",
    "    l=[]\n",
    "    n= int(input(\"Enter number of elements for list: \"))\n",
    "    for i in range(0,n):\n",
    "        element= int(input(\"Enter element: \"))\n",
    "        l.append(element)  \n",
    "    print(\"The list is :\", l) \n",
    "    n2 =int(input(\"No of Largest element from list: \"))  \n",
    "    print(\"No of Largest element from list:\",n2)\n",
    "    l.sort(reverse=True)\n",
    "    print(n2 ,'Largest element(s) in list is: ', l[0:n2])"
   ]
  },
  {
   "cell_type": "code",
   "execution_count": 16,
   "metadata": {},
   "outputs": [
    {
     "name": "stdout",
     "output_type": "stream",
     "text": [
      "The list is : [963, 741, 123, 789, 753]\n",
      "No of Largest element from list: 3\n",
      "3 Largest element(s) in list is:  [963, 789, 753]\n"
     ]
    }
   ],
   "source": [
    "nmaxlist()"
   ]
  },
  {
   "cell_type": "markdown",
   "metadata": {},
   "source": [
    "7. Write a Python program to print even numbers in a list?"
   ]
  },
  {
   "cell_type": "code",
   "execution_count": 34,
   "metadata": {},
   "outputs": [],
   "source": [
    "def evenlist():\n",
    "    l=[]\n",
    "    l1=[]\n",
    "    n= int(input(\"Enter number of elements for list: \"))\n",
    "    for i in range(0,n):\n",
    "        element= int(input(\"Enter element: \"))\n",
    "        l.append(element)  \n",
    "    print(\"The list is :\", l) \n",
    "    for i in range(0,len(l)):\n",
    "        if l[i]%2 ==0:\n",
    "            l1.append(l[i])\n",
    "    print(\"List of even numbers is: \", l1)"
   ]
  },
  {
   "cell_type": "code",
   "execution_count": 35,
   "metadata": {},
   "outputs": [
    {
     "name": "stdout",
     "output_type": "stream",
     "text": [
      "The list is : [63, 45, 63, 52, 45]\n",
      "List of even numbers is:  [52]\n"
     ]
    }
   ],
   "source": [
    "evenlist()"
   ]
  },
  {
   "cell_type": "markdown",
   "metadata": {},
   "source": [
    "8. Write a Python program to print odd numbers in a List?"
   ]
  },
  {
   "cell_type": "code",
   "execution_count": 36,
   "metadata": {},
   "outputs": [],
   "source": [
    "def oddlist():\n",
    "    l=[]\n",
    "    l1=[]\n",
    "    n= int(input(\"Enter number of elements for list: \"))\n",
    "    for i in range(0,n):\n",
    "        element= int(input(\"Enter element: \"))\n",
    "        l.append(element)  \n",
    "    print(\"The list is :\", l) \n",
    "    for i in range(0,len(l)):\n",
    "        if l[i]%2 !=0:\n",
    "            l1.append(l[i])\n",
    "    print(\"List of odd numbers is: \", l1)"
   ]
  },
  {
   "cell_type": "code",
   "execution_count": 37,
   "metadata": {},
   "outputs": [
    {
     "name": "stdout",
     "output_type": "stream",
     "text": [
      "The list is : [45, 62, 33, 45, 85, 66]\n",
      "List of odd numbers is:  [45, 33, 45, 85]\n"
     ]
    }
   ],
   "source": [
    "oddlist()"
   ]
  },
  {
   "cell_type": "markdown",
   "metadata": {},
   "source": [
    "9. Write a Python program to Remove empty List from List?"
   ]
  },
  {
   "cell_type": "code",
   "execution_count": 50,
   "metadata": {},
   "outputs": [],
   "source": [
    "def emptyremove():\n",
    "    l = eval(input('Enter a complete list: '))\n",
    "    print(l)\n",
    "    if [] in l:\n",
    "        l.remove([])\n",
    "        print(\"Empty list is removed\",l)\n",
    "        \n",
    "    else:\n",
    "        print(\"There is no Empty list\")\n",
    "        "
   ]
  },
  {
   "cell_type": "code",
   "execution_count": 49,
   "metadata": {},
   "outputs": [
    {
     "name": "stdout",
     "output_type": "stream",
     "text": [
      "[45, 52, [], 52, 'fgg']\n",
      "Empty list is removed [45, 52, 52, 'fgg']\n"
     ]
    }
   ],
   "source": [
    "emptyremove()"
   ]
  },
  {
   "cell_type": "markdown",
   "metadata": {},
   "source": [
    "10. Write a Python program to Cloning or Copying a list?"
   ]
  },
  {
   "cell_type": "code",
   "execution_count": 51,
   "metadata": {},
   "outputs": [],
   "source": [
    "import copy\n",
    "\n",
    "def clonelist():\n",
    "    list1 = eval(input('Enter a complete list'))\n",
    "    print(list1, id(list1))\n",
    "    list2 = list1.copy()\n",
    "    print(list2, id(list2))"
   ]
  },
  {
   "cell_type": "code",
   "execution_count": 52,
   "metadata": {},
   "outputs": [
    {
     "name": "stdout",
     "output_type": "stream",
     "text": [
      "[52, 56, 12, 25, 11] 2065447139968\n",
      "[52, 56, 12, 25, 11] 2065447094016\n"
     ]
    }
   ],
   "source": [
    "clonelist()"
   ]
  },
  {
   "cell_type": "markdown",
   "metadata": {},
   "source": [
    "11. Write a Python program to Count occurrences of an element in a list?"
   ]
  },
  {
   "cell_type": "code",
   "execution_count": 70,
   "metadata": {},
   "outputs": [],
   "source": [
    "def countOccurance():\n",
    "    l = eval(input('Enter a complete list: '))\n",
    "    f = eval(input(\"Enter an element to count: \"))\n",
    "    print(\"The list is\", l ,\"and element to count is\", f )\n",
    "    count= 0\n",
    "    for i in l:\n",
    "        if i==f:\n",
    "            count+=1\n",
    "    print(count)"
   ]
  },
  {
   "cell_type": "code",
   "execution_count": 71,
   "metadata": {},
   "outputs": [
    {
     "name": "stdout",
     "output_type": "stream",
     "text": [
      "The list is [41, 1, 1, 5, 1] and element to count is 1\n",
      "3\n"
     ]
    }
   ],
   "source": [
    "countOccurance()"
   ]
  }
 ],
 "metadata": {
  "interpreter": {
   "hash": "acbcac7a1a5e375d4c8f1b4af0aefe60266072beac7975d5b39e15b432b89d38"
  },
  "kernelspec": {
   "display_name": "Python 3.10.0 64-bit",
   "language": "python",
   "name": "python3"
  },
  "language_info": {
   "codemirror_mode": {
    "name": "ipython",
    "version": 3
   },
   "file_extension": ".py",
   "mimetype": "text/x-python",
   "name": "python",
   "nbconvert_exporter": "python",
   "pygments_lexer": "ipython3",
   "version": "3.10.0"
  },
  "orig_nbformat": 4
 },
 "nbformat": 4,
 "nbformat_minor": 2
}
