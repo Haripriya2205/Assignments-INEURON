{
 "cells": [
  {
   "cell_type": "markdown",
   "metadata": {},
   "source": [
    "1. Write a Python program to find words which are greater than given length k?\n"
   ]
  },
  {
   "cell_type": "code",
   "execution_count": 1,
   "metadata": {},
   "outputs": [
    {
     "name": "stdout",
     "output_type": "stream",
     "text": [
      "input string is:  Many of life’s failures are people who did not realize how close they were to success when they gave up\n",
      "Words greater than length 5  is ['life’s', 'failures', 'people', 'realize', 'success']\n"
     ]
    }
   ],
   "source": [
    "def findWord():\n",
    "    getString = input(\"Enter the words: \")\n",
    "    getLength = int(input(\"Enter the length to find: \"))\n",
    "    l =[]\n",
    "    for i in getString.split(\" \"):\n",
    "        if len(i) > getLength:\n",
    "            l.append(i)\n",
    "    print(\"input string is: \", getString)\n",
    "    print (\"Words greater than length\",getLength,\" is\", l)\n",
    "\n",
    "findWord()"
   ]
  },
  {
   "cell_type": "markdown",
   "metadata": {},
   "source": [
    "2. Write a Python program for removing i-th character from a string?\n"
   ]
  },
  {
   "cell_type": "code",
   "execution_count": 4,
   "metadata": {},
   "outputs": [],
   "source": [
    "def removeChar():\n",
    "    \"\"\"Function for removing i-th character from a string\"\"\"\n",
    "    getString = input(\"Enter the string: \")\n",
    "    ith_Char = int(input(\"Enter the ith character to remove: \"))\n",
    "    a = getString[ : ith_Char] \n",
    "    b = getString[ith_Char + 1: ]\n",
    "    print(\"Input string is \",getString)\n",
    "    print(\"Removing\",ith_Char,\"th character\")\n",
    "    return a + b\n"
   ]
  },
  {
   "cell_type": "code",
   "execution_count": 5,
   "metadata": {},
   "outputs": [
    {
     "name": "stdout",
     "output_type": "stream",
     "text": [
      "Input string is  String\n",
      "Removing 3 th character\n"
     ]
    },
    {
     "data": {
      "text/plain": [
       "'Strng'"
      ]
     },
     "execution_count": 5,
     "metadata": {},
     "output_type": "execute_result"
    }
   ],
   "source": [
    "removeChar()"
   ]
  },
  {
   "cell_type": "markdown",
   "metadata": {},
   "source": [
    "3. Write a Python program to split and join a string?\n"
   ]
  },
  {
   "cell_type": "code",
   "execution_count": 74,
   "metadata": {},
   "outputs": [],
   "source": [
    "\n",
    "def splitjoin(string):\n",
    "    \"\"\"Function to split and join a string\"\"\"\n",
    "  \n",
    "    # Split the string based on space delimiter\n",
    "    list_string = string.split(' ')\n",
    "      \n",
    "    print (list_string)\n",
    "  \n",
    "    # Join the string based on '_' delimiter\n",
    "    string = '_'.join(list_string)\n",
    "      \n",
    "    print (string)"
   ]
  },
  {
   "cell_type": "code",
   "execution_count": 75,
   "metadata": {},
   "outputs": [
    {
     "name": "stdout",
     "output_type": "stream",
     "text": [
      "['The', 'main', 'course', 'of', 'my', 'class']\n",
      "The_main_course_of_my_class\n"
     ]
    }
   ],
   "source": [
    "splitjoin(\"The main course of my class\")\n"
   ]
  },
  {
   "cell_type": "markdown",
   "metadata": {},
   "source": [
    "4. Write a Python to check if a given string is binary string or not?\n"
   ]
  },
  {
   "cell_type": "code",
   "execution_count": 101,
   "metadata": {},
   "outputs": [],
   "source": [
    "def binarycheck():\n",
    "    \"\"\"\"Checks if a given string is binary string or not\"\"\"\n",
    "    giveString =input(\"Enter an input string: \")\n",
    "    bin =0\n",
    "    for i in giveString:\n",
    "        if i in ['0','1']:\n",
    "            bin=1\n",
    "            continue\n",
    "        else:\n",
    "            bin=0\n",
    "            break\n",
    "\n",
    "    if bin ==1:\n",
    "        print(giveString,\" is a binary string\")\n",
    "    else:\n",
    "        print(giveString,\" is not a binary string\")\n"
   ]
  },
  {
   "cell_type": "code",
   "execution_count": 102,
   "metadata": {},
   "outputs": [
    {
     "name": "stdout",
     "output_type": "stream",
     "text": [
      "101010  is a binary string\n"
     ]
    }
   ],
   "source": [
    "binarycheck()"
   ]
  },
  {
   "cell_type": "markdown",
   "metadata": {},
   "source": [
    "5. Write a Python program to find uncommon words from two Strings?\n"
   ]
  },
  {
   "cell_type": "code",
   "execution_count": 31,
   "metadata": {},
   "outputs": [],
   "source": [
    "def uncommon():\n",
    "    \"\"\"function to find uncommon words from two Strings\"\"\"\n",
    "    # Get 2 strings from user to find uncommon words\n",
    "    str1 =input(\"Enter a string: \")\n",
    "    str2= input(\"Enter another string: \")\n",
    "    # Splitting the words to find uncommon words\n",
    "    sstr1= str1.split()\n",
    "    sstr2= str2.split()\n",
    "    uc =''\n",
    "    for i in sstr1:\n",
    "        if i not in sstr2:\n",
    "            uc =uc+ \" \"+i\n",
    "\n",
    "    for j in sstr2:\n",
    "        if j not in sstr1:\n",
    "            uc=uc+\" \"+j\n",
    "    return uc.split()\n",
    "    "
   ]
  },
  {
   "cell_type": "code",
   "execution_count": 30,
   "metadata": {},
   "outputs": [
    {
     "data": {
      "text/plain": [
       "['particles', 'could', 'think']"
      ]
     },
     "execution_count": 30,
     "metadata": {},
     "output_type": "execute_result"
    }
   ],
   "source": [
    "uncommon()"
   ]
  },
  {
   "cell_type": "markdown",
   "metadata": {},
   "source": [
    "6. Write a Python to find all duplicate characters in string?\n"
   ]
  },
  {
   "cell_type": "code",
   "execution_count": 57,
   "metadata": {},
   "outputs": [],
   "source": [
    "def duplicatechar():\n",
    "    getString =input(\"Enter a string\")\n",
    "    duplicate = []\n",
    "    notduplicate=[] \n",
    "    for i in getString:\n",
    "        if i not in notduplicate:\n",
    "            notduplicate.append(i)\n",
    "        else:\n",
    "            duplicate.append(i)\n",
    "    print(*duplicate)"
   ]
  },
  {
   "cell_type": "code",
   "execution_count": 59,
   "metadata": {},
   "outputs": [
    {
     "name": "stdout",
     "output_type": "stream",
     "text": [
      "a\n"
     ]
    }
   ],
   "source": [
    "duplicatechar()"
   ]
  },
  {
   "cell_type": "markdown",
   "metadata": {},
   "source": [
    "7. Write a Python Program to check if a string contains any special character?"
   ]
  },
  {
   "cell_type": "code",
   "execution_count": 105,
   "metadata": {},
   "outputs": [],
   "source": [
    "def specialcharcheck():\n",
    "    spl_chars = '[@_!#$%^&*()<>?/\\|}{~:]'\n",
    "    getString = input(\"Enter the string: \")\n",
    "    count=0\n",
    "    for i in getString:\n",
    "        if i in spl_chars:\n",
    "            count =count+1\n",
    "\n",
    "    if count>0:\n",
    "        print(getString,\": It has special charater\")\n",
    "\n",
    "    else:\n",
    "        print(getString,\": It has no special character\")\n",
    "\n",
    "            "
   ]
  },
  {
   "cell_type": "code",
   "execution_count": 106,
   "metadata": {},
   "outputs": [
    {
     "name": "stdout",
     "output_type": "stream",
     "text": [
      "Happiness i$ everything : It has special charater\n"
     ]
    }
   ],
   "source": [
    "specialcharcheck()"
   ]
  }
 ],
 "metadata": {
  "interpreter": {
   "hash": "acbcac7a1a5e375d4c8f1b4af0aefe60266072beac7975d5b39e15b432b89d38"
  },
  "kernelspec": {
   "display_name": "Python 3.10.0 64-bit",
   "language": "python",
   "name": "python3"
  },
  "language_info": {
   "codemirror_mode": {
    "name": "ipython",
    "version": 3
   },
   "file_extension": ".py",
   "mimetype": "text/x-python",
   "name": "python",
   "nbconvert_exporter": "python",
   "pygments_lexer": "ipython3",
   "version": "3.10.0"
  },
  "orig_nbformat": 4
 },
 "nbformat": 4,
 "nbformat_minor": 2
}
