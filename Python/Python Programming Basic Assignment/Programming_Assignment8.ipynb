{
 "cells": [
  {
   "attachments": {},
   "cell_type": "markdown",
   "metadata": {},
   "source": [
    "1. Write a Python Program to Add Two Matrices?\n"
   ]
  },
  {
   "cell_type": "code",
   "execution_count": 17,
   "metadata": {},
   "outputs": [
    {
     "name": "stdout",
     "output_type": "stream",
     "text": [
      "Resultant matrix:\n",
      "[10, 10, 10]\n",
      "[10, 10, 10]\n",
      "[10, 10, 10]\n"
     ]
    }
   ],
   "source": [
    "def add_matrices(matrix1, matrix2):\n",
    "    rows =len(matrix1)\n",
    "    columns = len(matrix1[0])\n",
    "    result = [[0]*columns for _ in range(rows )]\n",
    "\n",
    "    for i in range(rows):\n",
    "        for j in range(columns):\n",
    "            result[i][j] = matrix1[i][j] + matrix2[i][j]\n",
    "    return result\n",
    "\n",
    "# Example usage:\n",
    "matrix1 = [[1, 2, 3], [4, 5, 6], [7, 8, 9]]\n",
    "matrix2 = [[9, 8, 7], [6, 5, 4], [3, 2, 1]]\n",
    "result_matrix = add_matrices(matrix1, matrix2)\n",
    "print(\"Resultant matrix:\")\n",
    "for row in result_matrix:\n",
    "    print(row)"
   ]
  },
  {
   "attachments": {},
   "cell_type": "markdown",
   "metadata": {},
   "source": [
    "2. Write a Python Program to Multiply Two Matrices?\n"
   ]
  },
  {
   "cell_type": "code",
   "execution_count": 18,
   "metadata": {},
   "outputs": [
    {
     "name": "stdout",
     "output_type": "stream",
     "text": [
      "Resultant matrix:\n",
      "[27, 30, 33]\n",
      "[61, 68, 75]\n",
      "[95, 106, 117]\n"
     ]
    }
   ],
   "source": [
    "def multiply_matrices(matrix1, matrix2):\n",
    "    rows1 = len(matrix1)\n",
    "    columns1 = len(matrix1[0])\n",
    "    rows2 = len(matrix2)\n",
    "    columns2 = len(matrix2[0])\n",
    "\n",
    "    if columns1 != rows2:\n",
    "        print(\"Matrices cannot be multiplied.\")\n",
    "        return None\n",
    "\n",
    "    result = [[0] * columns2 for _ in range(rows1)]\n",
    "\n",
    "    for i in range(rows1):\n",
    "        for j in range(columns2):\n",
    "            for k in range(columns1):\n",
    "                result[i][j] += matrix1[i][k] * matrix2[k][j]\n",
    "\n",
    "    return result\n",
    "\n",
    "# Example usage:\n",
    "matrix1 = [[1, 2], [3, 4], [5, 6]]\n",
    "matrix2 = [[7, 8, 9], [10, 11, 12]]\n",
    "result_matrix = multiply_matrices(matrix1, matrix2)\n",
    "print(\"Resultant matrix:\")\n",
    "for row in result_matrix:\n",
    "    print(row)\n"
   ]
  },
  {
   "attachments": {},
   "cell_type": "markdown",
   "metadata": {},
   "source": [
    "3. Write a Python Program to Transpose a Matrix?\n"
   ]
  },
  {
   "cell_type": "code",
   "execution_count": 19,
   "metadata": {},
   "outputs": [
    {
     "name": "stdout",
     "output_type": "stream",
     "text": [
      "Transposed matrix:\n",
      "[1, 4, 7]\n",
      "[2, 5, 8]\n",
      "[3, 6, 9]\n"
     ]
    }
   ],
   "source": [
    "def transpose_matrix(matrix):\n",
    "    rows = len(matrix)\n",
    "    columns = len(matrix[0])\n",
    "    transposed = [[0] * rows for _ in range(columns)]\n",
    "\n",
    "    for i in range(rows):\n",
    "        for j in range(columns):\n",
    "            transposed[j][i] = matrix[i][j]\n",
    "\n",
    "    return transposed\n",
    "\n",
    "# Example usage:\n",
    "matrix = [[1, 2, 3], [4, 5, 6], [7, 8, 9]]\n",
    "transposed_matrix = transpose_matrix(matrix)\n",
    "print(\"Transposed matrix:\")\n",
    "for row in transposed_matrix:\n",
    "    print(row)\n"
   ]
  },
  {
   "attachments": {},
   "cell_type": "markdown",
   "metadata": {},
   "source": [
    "4. Write a Python Program to Sort Words in Alphabetic Order?\n"
   ]
  },
  {
   "cell_type": "code",
   "execution_count": 20,
   "metadata": {},
   "outputs": [
    {
     "name": "stdout",
     "output_type": "stream",
     "text": [
      "Sorted words: ['This', 'an', 'example', 'is', 'sentence', 'sort', 'the', 'to', 'words']\n"
     ]
    }
   ],
   "source": [
    "def sort_words(sentence):\n",
    "    words = sentence.split()\n",
    "    words.sort()\n",
    "    return words\n",
    "\n",
    "# Example usage:\n",
    "sentence = \"This is an example sentence to sort the words\"\n",
    "sorted_words = sort_words(sentence)\n",
    "print(\"Sorted words:\", sorted_words)\n"
   ]
  },
  {
   "attachments": {},
   "cell_type": "markdown",
   "metadata": {},
   "source": [
    "5. Write a Python Program to Remove Punctuation From a String?"
   ]
  },
  {
   "cell_type": "code",
   "execution_count": 21,
   "metadata": {},
   "outputs": [
    {
     "name": "stdout",
     "output_type": "stream",
     "text": [
      "Result: Hello world This is a sentence with punctuation\n"
     ]
    }
   ],
   "source": [
    "import string\n",
    "\n",
    "def remove_punctuation(text):\n",
    "    translator = str.maketrans(\"\", \"\", string.punctuation)\n",
    "    return text.translate(translator)\n",
    "\n",
    "# Example usage:\n",
    "sentence = \"Hello, world! This is a sentence with punctuation.\"\n",
    "result = remove_punctuation(sentence)\n",
    "print(\"Result:\", result)\n"
   ]
  }
 ],
 "metadata": {
  "kernelspec": {
   "display_name": "Python 3",
   "language": "python",
   "name": "python3"
  },
  "language_info": {
   "codemirror_mode": {
    "name": "ipython",
    "version": 3
   },
   "file_extension": ".py",
   "mimetype": "text/x-python",
   "name": "python",
   "nbconvert_exporter": "python",
   "pygments_lexer": "ipython3",
   "version": "3.10.0"
  },
  "orig_nbformat": 4
 },
 "nbformat": 4,
 "nbformat_minor": 2
}
