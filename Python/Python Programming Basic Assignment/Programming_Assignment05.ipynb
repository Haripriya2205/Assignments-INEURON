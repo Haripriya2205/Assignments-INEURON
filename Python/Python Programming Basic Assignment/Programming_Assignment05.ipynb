{
 "cells": [
  {
   "cell_type": "markdown",
   "metadata": {},
   "source": [
    "1. Write a Python Program to Find LCM?\n"
   ]
  },
  {
   "cell_type": "code",
   "execution_count": 10,
   "metadata": {},
   "outputs": [],
   "source": [
    "def lcm(x,y):\n",
    "    if x > y:  \n",
    "        greater = x\n",
    "    else:  \n",
    "        greater = y \n",
    "    while(True):  \n",
    "        if((greater % x == 0) and (greater % y == 0)):  \n",
    "            lcm = greater  \n",
    "            break  \n",
    "        greater =  greater + 1\n",
    "    \n",
    "    print (\"Least common multiple = \", lcm)"
   ]
  },
  {
   "cell_type": "code",
   "execution_count": 11,
   "metadata": {},
   "outputs": [
    {
     "name": "stdout",
     "output_type": "stream",
     "text": [
      "Least common multiple =  300\n"
     ]
    }
   ],
   "source": [
    "lcm(12,50)"
   ]
  },
  {
   "cell_type": "markdown",
   "metadata": {},
   "source": [
    "2. Write a Python Program to Find HCF?\n"
   ]
  },
  {
   "cell_type": "code",
   "execution_count": 2,
   "metadata": {},
   "outputs": [
    {
     "name": "stdout",
     "output_type": "stream",
     "text": [
      "The H.C.F. is 6\n"
     ]
    }
   ],
   "source": [
    "def hcf(x, y):\n",
    "\n",
    "    if x > y:\n",
    "        smaller = y\n",
    "    else:\n",
    "        smaller = x\n",
    "    for i in range(1, smaller+1):\n",
    "        if((x % i == 0) and (y % i == 0)):\n",
    "            hcf = i \n",
    "    return hcf\n"
   ]
  },
  {
   "cell_type": "code",
   "execution_count": 5,
   "metadata": {},
   "outputs": [
    {
     "data": {
      "text/plain": [
       "6"
      ]
     },
     "execution_count": 5,
     "metadata": {},
     "output_type": "execute_result"
    }
   ],
   "source": [
    "num1=54\n",
    "num2=24\n",
    "hcf(num1,num2)"
   ]
  },
  {
   "cell_type": "markdown",
   "metadata": {},
   "source": [
    "3. Write a Python Program to Convert Decimal to Binary, Octal and Hexadecimal?\n"
   ]
  },
  {
   "cell_type": "code",
   "execution_count": 12,
   "metadata": {},
   "outputs": [
    {
     "name": "stdout",
     "output_type": "stream",
     "text": [
      "The decimal value of 122 is:\n",
      "0b1111010 in binary.\n",
      "0o172 in octal.\n",
      "0x7a in hexadecimal.\n"
     ]
    }
   ],
   "source": [
    "dec = 122\n",
    "\n",
    "print(\"The decimal value of\", dec, \"is:\")\n",
    "print(bin(dec), \"in binary.\")\n",
    "print(oct(dec), \"in octal.\")\n",
    "print(hex(dec), \"in hexadecimal.\")"
   ]
  },
  {
   "cell_type": "markdown",
   "metadata": {},
   "source": [
    "4. Write a Python Program To Find ASCII value of a character?\n"
   ]
  },
  {
   "cell_type": "code",
   "execution_count": 25,
   "metadata": {},
   "outputs": [],
   "source": [
    "def AsciiVal():\n",
    "    char = input('Enter a Character: ')\n",
    "    if len(char) > 1:\n",
    "        print('Please Enter a Single Character')\n",
    "    else:\n",
    "        print(f'Ascii Character of {char} is {ord(char)}')"
   ]
  },
  {
   "cell_type": "code",
   "execution_count": 28,
   "metadata": {},
   "outputs": [
    {
     "name": "stdout",
     "output_type": "stream",
     "text": [
      "Ascii Character of p is 112\n"
     ]
    }
   ],
   "source": [
    "AsciiVal()"
   ]
  },
  {
   "cell_type": "markdown",
   "metadata": {},
   "source": [
    "5. Write a Python Program to Make a Simple Calculator with 4 basic mathematical operations?"
   ]
  },
  {
   "cell_type": "code",
   "execution_count": 10,
   "metadata": {},
   "outputs": [
    {
     "name": "stdout",
     "output_type": "stream",
     "text": [
      "SELECT OPERATION: 1 -> Add , 2 -> Subtract , 3 -> Multiply , 4 -> Division\n",
      "Multiplication =  200\n"
     ]
    }
   ],
   "source": [
    "print(\"SELECT OPERATION: 1 -> Add , 2 -> Subtract , 3 -> Multiply , 4 -> Division\")\n",
    "choice =int(input(\"Enter a choice: \"))\n",
    "if choice in [1,2,3,4]:\n",
    "    if choice == 1:\n",
    "        x= int(input(\"Enter 1st num: \"))\n",
    "        y= int(input(\"Enter 2nd num: \"))\n",
    "        add=x+y\n",
    "        print(\"Addition = \",add)\n",
    "    elif choice == 2:\n",
    "        x= int(input(\"Enter 1st num: \"))\n",
    "        y= int(input(\"Enter 2nd num: \"))\n",
    "        sub= x-y\n",
    "        print(\"Subtraction =\", sub)\n",
    "    elif choice ==3:\n",
    "        x= int(input(\"Enter 1st num: \"))\n",
    "        y= int(input(\"Enter 2nd num: \"))\n",
    "        mul=x*y\n",
    "        print(\"Multiplication = \",mul)\n",
    "    else:\n",
    "        x= int(input(\"Enter 1st num: \"))\n",
    "        y= int(input(\"Enter 2nd num: \")) \n",
    "        div=x/y\n",
    "        print(\"Division =\",div)\n",
    "else:\n",
    "    print(\"Enter a valid choice\")\n"
   ]
  }
 ],
 "metadata": {
  "interpreter": {
   "hash": "56ea6b1a410015e1475253f98954e9fae7f33cff6f4b2c2a2a3b952fda68b31a"
  },
  "kernelspec": {
   "display_name": "Python 3.9.7 ('base')",
   "language": "python",
   "name": "python3"
  },
  "language_info": {
   "codemirror_mode": {
    "name": "ipython",
    "version": 3
   },
   "file_extension": ".py",
   "mimetype": "text/x-python",
   "name": "python",
   "nbconvert_exporter": "python",
   "pygments_lexer": "ipython3",
   "version": "3.9.7"
  },
  "orig_nbformat": 4
 },
 "nbformat": 4,
 "nbformat_minor": 2
}
