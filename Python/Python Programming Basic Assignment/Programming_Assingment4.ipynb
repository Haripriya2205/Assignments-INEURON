{
 "cells": [
  {
   "cell_type": "markdown",
   "metadata": {},
   "source": [
    "1. Write a Python Program to Find the Factorial of a Number?"
   ]
  },
  {
   "cell_type": "code",
   "execution_count": 21,
   "metadata": {},
   "outputs": [],
   "source": [
    "def factorial(n):\n",
    "    if n <0:\n",
    "        return 0\n",
    "    elif n ==0 or n==1:\n",
    "        return 1\n",
    "    else:\n",
    "        fact= 1\n",
    "        while(n >0):\n",
    "            fact = fact*n\n",
    "            n = n-1\n",
    "        return fact"
   ]
  },
  {
   "cell_type": "code",
   "execution_count": 22,
   "metadata": {},
   "outputs": [
    {
     "data": {
      "text/plain": [
       "120"
      ]
     },
     "execution_count": 22,
     "metadata": {},
     "output_type": "execute_result"
    }
   ],
   "source": [
    "factorial(5)"
   ]
  },
  {
   "cell_type": "markdown",
   "metadata": {},
   "source": [
    "2. Write a Python Program to Display the multiplication Table?"
   ]
  },
  {
   "cell_type": "code",
   "execution_count": 44,
   "metadata": {},
   "outputs": [],
   "source": [
    "def multable():\n",
    "    n= int(input(\"Enter a table: \"))\n",
    "    for i in range(1,13):\n",
    "        print( \"%d * %d = %d\" %(i,n,n*i))\n"
   ]
  },
  {
   "cell_type": "code",
   "execution_count": 45,
   "metadata": {},
   "outputs": [
    {
     "name": "stdout",
     "output_type": "stream",
     "text": [
      "1 * 6 = 6\n",
      "2 * 6 = 12\n",
      "3 * 6 = 18\n",
      "4 * 6 = 24\n",
      "5 * 6 = 30\n",
      "6 * 6 = 36\n",
      "7 * 6 = 42\n",
      "8 * 6 = 48\n",
      "9 * 6 = 54\n",
      "10 * 6 = 60\n",
      "11 * 6 = 66\n",
      "12 * 6 = 72\n"
     ]
    }
   ],
   "source": [
    "multable()"
   ]
  },
  {
   "cell_type": "markdown",
   "metadata": {},
   "source": [
    "3. Write a Python Program to Print the Fibonacci sequence?"
   ]
  },
  {
   "cell_type": "code",
   "execution_count": 32,
   "metadata": {},
   "outputs": [],
   "source": [
    "def fibonacci():\n",
    "    n= int(input(\"Enter a number: \"))\n",
    "    fibcount = 0\n",
    "    n1= 0\n",
    "    n2= 1\n",
    "    # check if the number of terms is valid\n",
    "    if n <= 0:\n",
    "        print(\"Please enter a positive integer\")\n",
    "    else:\n",
    "        print(\"Fibonacci sequence:\")\n",
    "        while(fibcount<n):\n",
    "            print(n1)\n",
    "            n3 = n1 + n2\n",
    "            n1 = n2\n",
    "            n2 = n3\n",
    "            fibcount= fibcount+1\n",
    "        return "
   ]
  },
  {
   "cell_type": "code",
   "execution_count": 31,
   "metadata": {},
   "outputs": [
    {
     "name": "stdout",
     "output_type": "stream",
     "text": [
      "Please enter a positive integer\n"
     ]
    }
   ],
   "source": [
    "fibonacci()"
   ]
  },
  {
   "cell_type": "markdown",
   "metadata": {},
   "source": [
    "4. Write a Python Program to Check Armstrong Number?"
   ]
  },
  {
   "cell_type": "code",
   "execution_count": 16,
   "metadata": {},
   "outputs": [],
   "source": [
    "def ArmstrongCheck():\n",
    "   num = int(input(\"Enter a Number to check: \"))\n",
    "\n",
    "   # and calculated the length (number of digits)\n",
    "   order = len(str(num))\n",
    "\n",
    "   sum = 0\n",
    "\n",
    "   temp = num\n",
    "   while temp > 0:\n",
    "      digit = temp % 10\n",
    "      sum += digit ** order\n",
    "      temp //= 10\n",
    "\n",
    "   if num == sum:\n",
    "      print(num,\"is an Armstrong number\")\n",
    "   else:\n",
    "      print(num,\"is not an Armstrong number\")"
   ]
  },
  {
   "cell_type": "code",
   "execution_count": 17,
   "metadata": {},
   "outputs": [
    {
     "name": "stdout",
     "output_type": "stream",
     "text": [
      "1634 is an Armstrong number\n"
     ]
    }
   ],
   "source": [
    "ArmstrongCheck()"
   ]
  },
  {
   "cell_type": "markdown",
   "metadata": {},
   "source": [
    "5. Write a Python Program to Find Armstrong Number in an Interval?"
   ]
  },
  {
   "cell_type": "code",
   "execution_count": 13,
   "metadata": {},
   "outputs": [],
   "source": [
    "def ArmstrongRange():\n",
    "   lower =  int(input(\"Enter a start of range: \"))\n",
    "   upper =  int(input(\"Enter a end of range: \"))\n",
    "\n",
    "   for num in range(lower, upper + 1):\n",
    "\n",
    "      order = len(str(num))\n",
    "      \n",
    "      sum = 0\n",
    "\n",
    "      temp = num\n",
    "      while temp > 0:\n",
    "         digit = temp % 10\n",
    "         sum += digit ** order\n",
    "         temp //= 10\n",
    "\n",
    "      if num == sum:\n",
    "         print(num)"
   ]
  },
  {
   "cell_type": "code",
   "execution_count": 14,
   "metadata": {},
   "outputs": [
    {
     "name": "stdout",
     "output_type": "stream",
     "text": [
      "153\n",
      "370\n",
      "371\n",
      "407\n",
      "1634\n"
     ]
    }
   ],
   "source": [
    "ArmstrongRange()"
   ]
  },
  {
   "cell_type": "markdown",
   "metadata": {},
   "source": [
    "6. Write a Python Program to Find the Sum of Natural Numbers?"
   ]
  },
  {
   "cell_type": "code",
   "execution_count": 23,
   "metadata": {},
   "outputs": [],
   "source": [
    "def SumNaturalNos():\n",
    "    num= int(input(\"Enter a number to get sum of natural numbers: \"))\n",
    "    sum = num*((num+1)/2)\n",
    "    print(f'Sum of {num} natural numbers is {sum}')\n",
    "    "
   ]
  },
  {
   "cell_type": "code",
   "execution_count": 26,
   "metadata": {},
   "outputs": [
    {
     "name": "stdout",
     "output_type": "stream",
     "text": [
      "Sum of 75 natural numbers is 2850.0\n"
     ]
    }
   ],
   "source": [
    "SumNaturalNos()"
   ]
  }
 ],
 "metadata": {
  "interpreter": {
   "hash": "acbcac7a1a5e375d4c8f1b4af0aefe60266072beac7975d5b39e15b432b89d38"
  },
  "kernelspec": {
   "display_name": "Python 3.10.0 64-bit",
   "language": "python",
   "name": "python3"
  },
  "language_info": {
   "codemirror_mode": {
    "name": "ipython",
    "version": 3
   },
   "file_extension": ".py",
   "mimetype": "text/x-python",
   "name": "python",
   "nbconvert_exporter": "python",
   "pygments_lexer": "ipython3",
   "version": "3.9.7"
  },
  "orig_nbformat": 4
 },
 "nbformat": 4,
 "nbformat_minor": 2
}
