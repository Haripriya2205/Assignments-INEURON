{
 "cells": [
  {
   "cell_type": "markdown",
   "id": "bbeecb46",
   "metadata": {},
   "source": [
    "1. Write a Python program to print &quot;Hello Python&quot;?"
   ]
  },
  {
   "cell_type": "code",
   "execution_count": 1,
   "id": "24a95b03",
   "metadata": {},
   "outputs": [
    {
     "name": "stdout",
     "output_type": "stream",
     "text": [
      "Hello Python\n"
     ]
    }
   ],
   "source": [
    "print(\"Hello Python\")"
   ]
  },
  {
   "cell_type": "markdown",
   "id": "5e63b75a",
   "metadata": {},
   "source": [
    "2. Write a Python program to do arithmetical operations addition and division.?"
   ]
  },
  {
   "cell_type": "code",
   "execution_count": 2,
   "id": "51cd82c2",
   "metadata": {},
   "outputs": [
    {
     "name": "stdout",
     "output_type": "stream",
     "text": [
      "Addition of numbers:  115\n",
      "Division of numbers:  0.8253968253968254\n"
     ]
    }
   ],
   "source": [
    "a =int(input(\"Enter num1: \"))\n",
    "b= int(input(\"Enter num2: \"))\n",
    "add= a+b\n",
    "div=a/b\n",
    "print(\"Addition of numbers: \", add)\n",
    "print(\"Division of numbers: \", div)"
   ]
  },
  {
   "cell_type": "markdown",
   "id": "c6941165",
   "metadata": {},
   "source": [
    "3. Write a Python program to find the area of a triangle?"
   ]
  },
  {
   "cell_type": "code",
   "execution_count": 3,
   "id": "ff5e3efd",
   "metadata": {},
   "outputs": [
    {
     "name": "stdout",
     "output_type": "stream",
     "text": [
      "Area of Triangle is:  3536.0\n"
     ]
    }
   ],
   "source": [
    "b= int(input(\"Enter base of triange: \"))\n",
    "h= int(input(\"Enter height of triange: \"))\n",
    "Area_of_triangle = 0.5*b*h\n",
    "print (\"Area of Triangle is: \",Area_of_triangle)"
   ]
  },
  {
   "cell_type": "markdown",
   "id": "90eea909",
   "metadata": {},
   "source": [
    "4. Write a Python program to swap two variables?"
   ]
  },
  {
   "cell_type": "code",
   "execution_count": 4,
   "id": "75d4a025",
   "metadata": {},
   "outputs": [
    {
     "name": "stdout",
     "output_type": "stream",
     "text": [
      "Swapped values of variable var1 is :  63\n",
      "Swapped values of variable var2 is :  52\n"
     ]
    }
   ],
   "source": [
    "var1 = input(\"Input 1 is: \")\n",
    "var2 = input(\"Input 2 is: \")\n",
    "temp = var1\n",
    "var1= var2\n",
    "var2= temp\n",
    "print(\"Swapped values of variable var1 is : \", var1)\n",
    "print(\"Swapped values of variable var2 is : \", var2)"
   ]
  },
  {
   "cell_type": "markdown",
   "id": "b31784f7",
   "metadata": {},
   "source": [
    "5. Write a Python program to generate a random number?"
   ]
  },
  {
   "cell_type": "code",
   "execution_count": 5,
   "id": "35b99363",
   "metadata": {},
   "outputs": [],
   "source": [
    "import random"
   ]
  },
  {
   "cell_type": "code",
   "execution_count": 6,
   "id": "eb7d1a65",
   "metadata": {},
   "outputs": [],
   "source": [
    "def Gen_RandomNum(a,b):\n",
    "    c =random.randint(a,b)\n",
    "    print(\"Randon Number: \", c )"
   ]
  },
  {
   "cell_type": "code",
   "execution_count": 7,
   "id": "8803f34c",
   "metadata": {},
   "outputs": [
    {
     "name": "stdout",
     "output_type": "stream",
     "text": [
      "Randon Number:  39\n"
     ]
    }
   ],
   "source": [
    "Gen_RandomNum(20,50)"
   ]
  }
 ],
 "metadata": {
  "kernelspec": {
   "display_name": "Python 3 (ipykernel)",
   "language": "python",
   "name": "python3"
  },
  "language_info": {
   "codemirror_mode": {
    "name": "ipython",
    "version": 3
   },
   "file_extension": ".py",
   "mimetype": "text/x-python",
   "name": "python",
   "nbconvert_exporter": "python",
   "pygments_lexer": "ipython3",
   "version": "3.9.7"
  }
 },
 "nbformat": 4,
 "nbformat_minor": 5
}
