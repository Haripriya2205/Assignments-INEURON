{
 "cells": [
  {
   "attachments": {},
   "cell_type": "markdown",
   "metadata": {},
   "source": [
    "Question 1:\n",
    "Write a program that calculates and prints the value according to the given formula:\n",
    "Q = Square root of [(2 * C * D)/H]\n",
    "Following are the fixed values of C and H:\n",
    "C is 50. H is 30.\n",
    "D is the variable whose values should be input to your program in a comma-separated\n",
    "sequence.\n",
    "Example\n",
    "Let us assume the following comma separated input sequence is given to the program:\n",
    "100,150,180\n",
    "The output of the program should be:\n",
    "18,22,24\n",
    "\n"
   ]
  },
  {
   "cell_type": "code",
   "execution_count": 14,
   "metadata": {},
   "outputs": [
    {
     "name": "stdout",
     "output_type": "stream",
     "text": [
      "Input:  (100, 150, 180)\n",
      "Output: 18,22,24\n"
     ]
    }
   ],
   "source": [
    "import math\n",
    "C =50  # Declaring constant C\n",
    "H =30  # Declaring constant H\n",
    "D =eval(input(\"Enter the Input: \")) # Getting variable input D\n",
    "print(\"Input: \",D)\n",
    "output=[]\n",
    "for i in D:\n",
    "    Q =str(int(math.sqrt((2*C*i)/H)))\n",
    "    output.append(Q)\n",
    "print(\"Output: {}\".format(','.join(output)))"
   ]
  },
  {
   "attachments": {},
   "cell_type": "markdown",
   "metadata": {},
   "source": [
    "Question 2:\n",
    "Write a program which takes 2 digits, X,Y as input and generates a 2-dimensional array. The\n",
    "element value in the i-th row and j-th column of the array should be i*j.\n",
    "Note: i=0,1.., X-1; j=0,1,¡Y-1.\n",
    "Example\n",
    "Suppose the following inputs are given to the program:\n",
    "3,5\n",
    "Then, the output of the program should be:\n",
    "[[0, 0, 0, 0, 0], [0, 1, 2, 3, 4], [0, 2, 4, 6, 8]]\n",
    "\n"
   ]
  },
  {
   "cell_type": "code",
   "execution_count": 7,
   "metadata": {},
   "outputs": [],
   "source": [
    "def generate_sd(x,y):\n",
    "    array_2d = []\n",
    "    for i in range(x):\n",
    "        row = []\n",
    "        for j in range(y):\n",
    "            row.append(i*j)\n",
    "        array_2d.append(row)\n",
    "    return array_2d\n",
    "        \n"
   ]
  },
  {
   "cell_type": "code",
   "execution_count": 8,
   "metadata": {},
   "outputs": [
    {
     "data": {
      "text/plain": [
       "[[0, 0, 0, 0, 0], [0, 1, 2, 3, 4], [0, 2, 4, 6, 8]]"
      ]
     },
     "execution_count": 8,
     "metadata": {},
     "output_type": "execute_result"
    }
   ],
   "source": [
    "generate_sd(3,5)"
   ]
  },
  {
   "attachments": {},
   "cell_type": "markdown",
   "metadata": {},
   "source": [
    "Question 3:\n",
    "Write a program that accepts a comma separated sequence of words as input and prints the\n",
    "words in a comma-separated sequence after sorting them alphabetically.\n",
    "Suppose the following input is supplied to the program:\n",
    "without,hello,bag,world\n",
    "Then, the output should be:\n",
    "bag,hello,without,world\n",
    "\n"
   ]
  },
  {
   "cell_type": "code",
   "execution_count": 14,
   "metadata": {},
   "outputs": [
    {
     "name": "stdout",
     "output_type": "stream",
     "text": [
      "['bag', 'hello', 'without', 'world']\n"
     ]
    }
   ],
   "source": [
    "words = input(\"Enter the comma separated words: \")\n",
    "word_list = words.split(',')\n",
    "sorted_words = sorted(word_list)\n",
    "result = ','.join(sorted_words)\n",
    "print(sorted_words)"
   ]
  },
  {
   "attachments": {},
   "cell_type": "markdown",
   "metadata": {},
   "source": [
    "Question 4:\n",
    "Write a program that accepts a sequence of whitespace separated words as input and prints\n",
    "the words after removing all duplicate words and sorting them alphanumerically.\n",
    "Suppose the following input is supplied to the program:\n",
    "hello world and practice makes perfect and hello world again\n",
    "Then, the output should be:\n",
    "again and hello makes perfect practice world\n",
    "\n"
   ]
  },
  {
   "cell_type": "code",
   "execution_count": 16,
   "metadata": {},
   "outputs": [
    {
     "name": "stdout",
     "output_type": "stream",
     "text": [
      "again and hello makes perfect practice world\n"
     ]
    }
   ],
   "source": [
    "words = input(\"Enter whitespace-separated words: \")\n",
    "word_list = words.split()\n",
    "unique_words = list(set(word_list))\n",
    "sorted_words = sorted(unique_words)\n",
    "result = ' '.join(sorted_words)\n",
    "print(result)"
   ]
  },
  {
   "attachments": {},
   "cell_type": "markdown",
   "metadata": {},
   "source": [
    "Question 5:\n",
    "Write a program that accepts a sentence and calculate the number of letters and digits.\n",
    "Suppose the following input is supplied to the program:\n",
    "hello world! 123\n",
    "Then, the output should be:\n",
    "LETTERS 10\n",
    "\n",
    "DIGITS 3\n",
    "\n"
   ]
  },
  {
   "cell_type": "code",
   "execution_count": 23,
   "metadata": {},
   "outputs": [
    {
     "name": "stdout",
     "output_type": "stream",
     "text": [
      "LETTERS:  10\n",
      "DIGITS:  3\n"
     ]
    }
   ],
   "source": [
    "sentence = input('Enter a sentence: ')\n",
    "#initializing letter_count and digit_count\n",
    "letter_count = 0\n",
    "digit_count = 0\n",
    "for char in sentence:\n",
    "    if char.isalpha():\n",
    "        letter_count += 1\n",
    "    elif char.isdigit():\n",
    "        digit_count += 1\n",
    "print(\"LETTERS: \", letter_count)\n",
    "print(\"DIGITS: \", digit_count)"
   ]
  },
  {
   "attachments": {},
   "cell_type": "markdown",
   "metadata": {},
   "source": [
    "Question 6:\n",
    "A website requires the users to input username and password to register. Write a program to\n",
    "check the validity of password input by users.\n",
    "Following are the criteria for checking the password:\n",
    "1. At least 1 letter between [a-z]\n",
    "2. At least 1 number between [0-9]\n",
    "1. At least 1 letter between [A-Z]\n",
    "3. At least 1 character from [$#@]\n",
    "4. Minimum length of transaction password: 6\n",
    "5. Maximum length of transaction password: 12\n",
    "Your program should accept a sequence of comma separated passwords and will check them\n",
    "according to the above criteria. Passwords that match the criteria are to be printed, each\n",
    "separated by a comma.\n",
    "Example\n",
    "If the following passwords are given as input to the program:\n",
    "ABd1234@1,a F1#,2w3E*,2We3345\n",
    "Then, the output of the program should be:\n",
    "ABd1234@1"
   ]
  },
  {
   "cell_type": "code",
   "execution_count": 1,
   "metadata": {},
   "outputs": [],
   "source": [
    "import re\n",
    "def check_password(password):\n",
    "    if len(password)<6 or len(password)>12:\n",
    "        return False\n",
    "    if not re.search(r'[a-z]',password):\n",
    "        return False\n",
    "    if not re.search(r'[A-Z]', password):\n",
    "        return False\n",
    "    if not re.search(r'[$#@]', password):\n",
    "        return False\n",
    "\n",
    "    return True\n",
    "    "
   ]
  },
  {
   "cell_type": "code",
   "execution_count": 5,
   "metadata": {},
   "outputs": [
    {
     "name": "stdout",
     "output_type": "stream",
     "text": [
      "Inputs: ['ABd1234@1', 'a F1#', '2w3E*', '2We3345']\n",
      "Valid Password is:  ABd1234@1\n"
     ]
    }
   ],
   "source": [
    "# Accept comma-separated passwords from the user\n",
    "passwords = input(\"Enter comma-separated passwords: \").split(',')\n",
    "print(\"Inputs:\",passwords)\n",
    "\n",
    "# Check the validity of each password\n",
    "valid_passwords = []\n",
    "for password in passwords:\n",
    "    if check_password(password):\n",
    "        valid_passwords.append(password)\n",
    "\n",
    "# Print the valid passwords\n",
    "print(\"Valid Password is: \", ','.join(valid_passwords))"
   ]
  }
 ],
 "metadata": {
  "interpreter": {
   "hash": "56ea6b1a410015e1475253f98954e9fae7f33cff6f4b2c2a2a3b952fda68b31a"
  },
  "kernelspec": {
   "display_name": "Python 3.9.7 ('base')",
   "language": "python",
   "name": "python3"
  },
  "language_info": {
   "codemirror_mode": {
    "name": "ipython",
    "version": 3
   },
   "file_extension": ".py",
   "mimetype": "text/x-python",
   "name": "python",
   "nbconvert_exporter": "python",
   "pygments_lexer": "ipython3",
   "version": "3.10.0"
  },
  "orig_nbformat": 4
 },
 "nbformat": 4,
 "nbformat_minor": 2
}
