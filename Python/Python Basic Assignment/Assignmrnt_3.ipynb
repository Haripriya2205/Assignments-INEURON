{
 "cells": [
  {
   "cell_type": "markdown",
   "metadata": {},
   "source": [
    "\n",
    " 1 ) Why are functions advantageous to have in your programs?\n",
    "\t\n",
    "\t  The main advantage of function is Reusability. This makes the program shorter and eay to understand.\n",
    "\n",
    "\n",
    "\n",
    "\n",
    "\n",
    "\n",
    "\n"
   ]
  },
  {
   "cell_type": "markdown",
   "metadata": {},
   "source": [
    " 2 )  When does the code in a function run: when it's specified or when it's called?\n",
    "\t\n",
    "\t  The code in a function runs when it is called\n"
   ]
  },
  {
   "cell_type": "markdown",
   "metadata": {},
   "source": [
    " 3 )  What statement creates a function?\n",
    "\t\n",
    "\t  def is the function which is used to create a function.\n",
    "\n"
   ]
  },
  {
   "cell_type": "markdown",
   "metadata": {},
   "source": [
    " 4 ) What is the difference between a function and a function call?\n",
    "\n",
    "      A function is a group of statements that together perform a task. Functions in programming to bundle a set of instructions that you want to use repeatedly. \n",
    "    \n",
    "      Function call is used to execute a function that you have defined\n"
   ]
  },
  {
   "cell_type": "markdown",
   "metadata": {},
   "source": [
    " 5 ) How many global scopes are there in a Python program? How many local scopes?\n",
    "\n",
    "      There is one global scope, and a local scope is created whenever a function is called.\n"
   ]
  },
  {
   "cell_type": "markdown",
   "metadata": {},
   "source": [
    "6 ) What happens to variables in a local scope when the function call returns?\n",
    "   \n",
    "     When a function returns, the local scope is destroyed, and all the variables in it are forgotten.\n"
   ]
  },
  {
   "cell_type": "markdown",
   "metadata": {},
   "source": [
    "7 ) What is the concept of a return value? Is it possible to have a return value in an expression?\n",
    "\t\n",
    "\t  Return value is the value that a function returns when it is executed. Like any value, the return value can be used as a part of an expression\n"
   ]
  },
  {
   "cell_type": "markdown",
   "metadata": {},
   "source": [
    "8 ) If a function does not have a return statement, what is the return value of a call to that function?\n",
    "   \n",
    "     If there is no return statement for a function, its return value is None.\n"
   ]
  },
  {
   "cell_type": "markdown",
   "metadata": {},
   "source": [
    " 9 ) How do you make a function variable refer to the global variable?\n",
    "   \n",
    "      A global statement will force a variable in a function to refer to the global variable. If you want to refer to a global variable in a function, you can use the global keyword to declare which variables are global.\n"
   ]
  },
  {
   "cell_type": "markdown",
   "metadata": {},
   "source": [
    " 10 ) What is the data type of None?\n",
    "\t\n",
    "\t   The data type of None is None type. The output of print function is None type\n",
    "\n"
   ]
  },
  {
   "cell_type": "markdown",
   "metadata": {},
   "source": [
    " 11 ) What does the sentence import areallyourpetsnamederic do?\n",
    "\t\n",
    "\t   That import statement imports a module named areallyourpetsnamederic.\n"
   ]
  },
  {
   "cell_type": "markdown",
   "metadata": {},
   "source": [
    " 12 ) If you had a bacon() feature in a spam module, what would you call it after importing spam?\n",
    "\t\n",
    "\t   It can be called with spam.bacon()\n"
   ]
  },
  {
   "cell_type": "markdown",
   "metadata": {},
   "source": [
    " 13 ) What can you do to save a programme from crashing if it encounters an error?\n",
    "\t\n",
    "\t   Place the line of code that might cause an error in a try clause and use except block to handle the error.\n"
   ]
  },
  {
   "cell_type": "markdown",
   "metadata": {},
   "source": [
    " 14 ) What is the purpose of the try clause? What is the purpose of the except clause?\n",
    "\t\n",
    "\t   The code that could potentially cause an error goes in the try clause. The code that executes if an error happens goes in the except clause.\n"
   ]
  },
  {
   "cell_type": "markdown",
   "metadata": {},
   "source": []
  }
 ],
 "metadata": {
  "language_info": {
   "name": "python"
  },
  "orig_nbformat": 4
 },
 "nbformat": 4,
 "nbformat_minor": 2
}
