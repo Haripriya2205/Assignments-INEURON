{
 "cells": [
  {
   "cell_type": "markdown",
   "metadata": {},
   "source": [
    "####1. What does an empty dictionary's code look like?\n",
    "        \n",
    "        An empty dictionary is often represented by two empty curly brackets\n",
    "        d = {} or d = dict()\n",
    "\n"
   ]
  },
  {
   "cell_type": "markdown",
   "metadata": {},
   "source": [
    "####2. What is the value of a dictionary value with the key 'foo' and the value 42?\n",
    "\n",
    "        dict = {'foo':42}\n"
   ]
  },
  {
   "cell_type": "markdown",
   "metadata": {},
   "source": [
    "####3. What is the most significant distinction between a dictionary and a list?\n",
    "\n",
    "        Dictionaries are represented by {} where as listed are represented by []\n",
    "        The Items stored in a dictionary are Unordered , while the items in a list are ordered\n",
    "        Items stored in dictionary will be in the form of Key and value pair"
   ]
  },
  {
   "cell_type": "markdown",
   "metadata": {},
   "source": [
    "####4. What happens if you try to access spam['foo'] if spam is {'bar': 100}?\n",
    "\n",
    "        We will get a keyError KeyError: 'foo'\n"
   ]
  },
  {
   "cell_type": "markdown",
   "metadata": {},
   "source": [
    "####5. If a dictionary is stored in spam, what is the difference between the expressions 'cat' in spam and 'cat' in spam.keys()?\n",
    "\n",
    "        There is no difference. \n",
    "        The operator checks whether a value exits as a key in the dictionary or not        "
   ]
  },
  {
   "cell_type": "markdown",
   "metadata": {},
   "source": [
    "####6. If a dictionary is stored in spam, what is the difference between the expressions 'cat' in spam and 'cat' in spam.values()?\n",
    "\n",
    "        'cat' in spam checks whether there is a 'cat' key in the dictionary, while 'cat' in spam.values() checks whether there is a value 'cat' for one of the keys in spam."
   ]
  },
  {
   "cell_type": "markdown",
   "metadata": {},
   "source": [
    "####7. What is a shortcut for the following code?\n",
    "if 'color' not in spam:\n",
    "spam['color'] = 'black'\n",
    "\n",
    "        spam.setdefault('color','black')"
   ]
  },
  {
   "cell_type": "markdown",
   "metadata": {},
   "source": [
    "####8. How do you \"pretty print\" dictionary values using which module and function?\n",
    "\n",
    "        we can pretty print a dictionary using three functions\n",
    "\n",
    "        by using pprint() function of pprint module\n",
    "            Note: pprint() function doesnot prettify nested dictionaries\n",
    "        by using dumps() method of json module\n",
    "        by using dumps() method of yaml module"
   ]
  }
 ],
 "metadata": {
  "kernelspec": {
   "display_name": "Python 3.10.0 64-bit",
   "language": "python",
   "name": "python3"
  },
  "language_info": {
   "codemirror_mode": {
    "name": "ipython",
    "version": 3
   },
   "file_extension": ".py",
   "mimetype": "text/x-python",
   "name": "python",
   "nbconvert_exporter": "python",
   "pygments_lexer": "ipython3",
   "version": "3.10.0"
  },
  "orig_nbformat": 4,
  "vscode": {
   "interpreter": {
    "hash": "0b2e131ca3c2c93b073155e7a67f73d41828b8d22eba4be0629d60437dfbe001"
   }
  }
 },
 "nbformat": 4,
 "nbformat_minor": 2
}
