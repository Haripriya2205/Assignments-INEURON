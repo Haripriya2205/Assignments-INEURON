{
 "cells": [
  {
   "attachments": {},
   "cell_type": "markdown",
   "metadata": {},
   "source": [
    "1.\tWhat are escape characters, and how do you use them?\n",
    "\n",
    "                Escape characters are special characters used in strings to represent certain non-printable or reserved characters or to include characters that would otherwise be difficult to represent directly. Escape characters are typically represented by a backslash () followed by a specific character. They allow you to include characters such as quotes, newlines, tabs, and special characters in your strings.\n",
    "\n",
    "\n"
   ]
  },
  {
   "attachments": {},
   "cell_type": "markdown",
   "metadata": {},
   "source": [
    "2. What do the escape characters '\\n' and '\\t' stand for?\n",
    "\n",
    "            The escape character '\\n' stands for a newline, and the escape character '\\t' stands for a tab.\n",
    "\n"
   ]
  },
  {
   "attachments": {},
   "cell_type": "markdown",
   "metadata": {},
   "source": [
    "3. What is the way to include backslash characters in a string?\n",
    "\n",
    "            To include a backslash character itself in a string, you can use a double backslash (\\). For example, if you want to include a backslash in a string, you would write it as '\\'.\n",
    "\n"
   ]
  },
  {
   "attachments": {},
   "cell_type": "markdown",
   "metadata": {},
   "source": [
    "4.\tThe string \"Howl's Moving Castle\" is a correct value. Why isn't the single quote character in the word \"Howl's\" escaped a problem?\n",
    "\n",
    "                The single quote character in the word \"Howl's\" in the string \"Howl's Moving Castle\" is not escaped because the entire string is enclosed in double quotes (\"). In Python, you can use single quotes or double quotes to define a string. In this case, the double quotes are used to delimit the string, so the single quote within the string does not need to be escaped.\n",
    "\n"
   ]
  },
  {
   "attachments": {},
   "cell_type": "markdown",
   "metadata": {},
   "source": [
    "5.\tHow do you write a string of newlines if you don't want to use the '\\n' character?\n",
    "\n",
    "        If you don't want to use the '\\n' character to represent newlines in a string, you can use triple quotes (''' or \"\"\") to define a multiline string. For example:\n",
    "\n",
    "            string_with_newlines = '''Line 1\n",
    "            Line 2\n",
    "            Line 3'''\n",
    "        In this case, the newlines are preserved as they are, without the need for escape characters.\n",
    "\n"
   ]
  },
  {
   "attachments": {},
   "cell_type": "markdown",
   "metadata": {},
   "source": [
    "6.\tWhat are the values of the given expressions?\n",
    "\n",
    "            The values of the given expressions are:\n",
    "            'Hello, world!'[1]: Returns the character at index 1, which is 'e'.\n",
    "            'Hello, world!'[0:5]: Returns the substring starting from index 0 up to but not including index 5, which is 'Hello'.\n",
    "            'Hello, world!'[:5]: Same as the previous expression, it returns 'Hello'.\n",
    "            'Hello, world!'[3:]: Returns the substring starting from index 3 and includes all characters until the end, resulting in 'lo, world!'.\n",
    "\n",
    "\n"
   ]
  },
  {
   "attachments": {},
   "cell_type": "markdown",
   "metadata": {},
   "source": [
    "7.\tWhat are the values of the following expressions?\n",
    "\n",
    "            The values of the following expressions are:\n",
    "            'Hello'.upper(): Returns the string 'HELLO', where all characters are converted to uppercase.\n",
    "            'Hello'.upper().isupper(): Returns True because the string 'HELLO' consists entirely of uppercase characters.\n",
    "            'Hello'.upper().lower(): Returns the string 'hello', where all characters are converted to lowercase after converting to uppercase.\n",
    "\n"
   ]
  },
  {
   "attachments": {},
   "cell_type": "markdown",
   "metadata": {},
   "source": [
    "8. What are the values of the following expressions?\n",
    "    &#39;Remember, remember, the fifth of July.&#39;.split()\n",
    "    &#39;-&#39;.join(&#39;There can only one.&#39;.split())\n",
    "\n",
    "            The values of the following expressions are:\n",
    "            'Remember, remember, the fifth of July.'.split() returns a list of strings that were separated by whitespace characters. In this case, the result is ['Remember,', 'remember,', 'the', 'fifth', 'of', 'July.'].\n",
    "            '-'.join('There can only one.'.split()) splits the string 'There can only one.' into a list of strings using whitespace characters as separators, and then joins the elements of the list using a hyphen as the separator. The result is 'There-can-only-one.'.\n",
    "\n"
   ]
  },
  {
   "attachments": {},
   "cell_type": "markdown",
   "metadata": {},
   "source": [
    "9. What are the methods for right-justifying, left-justifying, and centering a string?\n",
    "\n",
    "                The methods for right-justifying, left-justifying, and centering a string in Python are as follows:\n",
    "                \n",
    "                Right-justifying a string: The str.rjust(width, fillchar) method can be used to right-justify a string within a field of a specified width. It pads the string with the specified fillchar (default is a space) on the left side until it reaches the specified width.\n"
   ]
  },
  {
   "cell_type": "code",
   "execution_count": 1,
   "metadata": {},
   "outputs": [
    {
     "name": "stdout",
     "output_type": "stream",
     "text": [
      "     Hello\n"
     ]
    }
   ],
   "source": [
    "#Example:\n",
    "string = 'Hello'\n",
    "justified_string = string.rjust(10)\n",
    "print(justified_string) "
   ]
  },
  {
   "attachments": {},
   "cell_type": "markdown",
   "metadata": {},
   "source": [
    "    Left-justifying a string: The str.ljust(width, fillchar) method can be used to left-justify a string within a field of a specified width. It pads the string with the specified fillchar (default is a space) on the right side until it reaches the specified width.\n",
    "                "
   ]
  },
  {
   "cell_type": "code",
   "execution_count": 3,
   "metadata": {},
   "outputs": [
    {
     "name": "stdout",
     "output_type": "stream",
     "text": [
      "Hello     \n"
     ]
    }
   ],
   "source": [
    "#Example: \n",
    "string = 'Hello'\n",
    "justified_string = string.ljust(10)\n",
    "print(justified_string)  "
   ]
  },
  {
   "attachments": {},
   "cell_type": "markdown",
   "metadata": {},
   "source": [
    "     Centering a string: The str.center(width, fillchar) method can be used to center a string within a field of a specified width. It pads the string with the specified fillchar (default is a space) on both sides until it reaches the specified width.\n",
    "                "
   ]
  },
  {
   "cell_type": "code",
   "execution_count": 5,
   "metadata": {},
   "outputs": [
    {
     "name": "stdout",
     "output_type": "stream",
     "text": [
      "  Hello   \n"
     ]
    }
   ],
   "source": [
    "#Example:\n",
    "string = 'Hello'\n",
    "centered_string = string.center(10)\n",
    "print(centered_string) "
   ]
  },
  {
   "attachments": {},
   "cell_type": "markdown",
   "metadata": {},
   "source": [
    "10. What is the best way to remove whitespace characters from the start or end?\n",
    "\n",
    "            The best way to remove whitespace characters from the start or end of a string in Python is by using the str.strip() method. It removes any leading (start) or trailing (end) whitespace characters from the string.\n",
    "            Example:\n",
    "                    The str.strip() method removes all whitespace characters, including spaces, tabs, and newlines, from both the start and end of the string. If you only want to remove leading or trailing whitespace, you can use the str.lstrip() method to remove leading whitespace or the str.rstrip() method to remove trailing whitespace.\n"
   ]
  },
  {
   "cell_type": "code",
   "execution_count": 7,
   "metadata": {},
   "outputs": [
    {
     "name": "stdout",
     "output_type": "stream",
     "text": [
      "Hello\n"
     ]
    }
   ],
   "source": [
    "string = '  Hello  '\n",
    "trimmed_string = string.strip()\n",
    "print(trimmed_string)  "
   ]
  }
 ],
 "metadata": {
  "kernelspec": {
   "display_name": "Python 3",
   "language": "python",
   "name": "python3"
  },
  "language_info": {
   "codemirror_mode": {
    "name": "ipython",
    "version": 3
   },
   "file_extension": ".py",
   "mimetype": "text/x-python",
   "name": "python",
   "nbconvert_exporter": "python",
   "pygments_lexer": "ipython3",
   "version": "3.10.0"
  },
  "orig_nbformat": 4
 },
 "nbformat": 4,
 "nbformat_minor": 2
}
