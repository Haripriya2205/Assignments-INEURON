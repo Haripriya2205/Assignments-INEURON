{
 "cells": [
  {
   "attachments": {},
   "cell_type": "markdown",
   "metadata": {},
   "source": [
    "## Assignment 7 "
   ]
  },
  {
   "attachments": {},
   "cell_type": "markdown",
   "metadata": {},
   "source": [
    "#### 1. What is the name of the feature responsible for generating Regex objects?\n",
    "**Ans:** The feature responsible for generating Regex objects is the re module in Python. The re module provides functions and methods for working with regular expressions."
   ]
  },
  {
   "attachments": {},
   "cell_type": "markdown",
   "metadata": {},
   "source": [
    "#### 2. Why do raw strings often appear in Regex objects?\n",
    "**Ans:** Raw strings often appear in Regex objects because they treat backslashes () as literal characters rather than escape characters. Since regular expressions often contain many backslashes, using raw strings (prefixed with the 'r' character) makes it easier to write and read regular expressions without having to double escape backslashes."
   ]
  },
  {
   "attachments": {},
   "cell_type": "markdown",
   "metadata": {},
   "source": [
    "#### 3. What is the return value of the search() method?\n",
    "**Ans:** The search() method in Python's re module returns a match object if a match is found, or None if no match is found."
   ]
  },
  {
   "cell_type": "code",
   "execution_count": 5,
   "metadata": {},
   "outputs": [
    {
     "name": "stdout",
     "output_type": "stream",
     "text": [
      "Output: <re.Match object; span=(0, 1), match='I'>\n",
      "Output: None\n"
     ]
    }
   ],
   "source": [
    "import re\n",
    "match = re.search('i','Ineuron Full Stack Data Science', flags=re.IGNORECASE)\n",
    "print('Output:',match)\n",
    "match = re.search('X','Ineuron Full Stack Data Science', flags=re.IGNORECASE)\n",
    "print('Output:',match)"
   ]
  },
  {
   "attachments": {},
   "cell_type": "markdown",
   "metadata": {},
   "source": [
    "#### 4. From a Match item, how do you get the actual strings that match the pattern?\n",
    "**Ans:** From a match object, you can use the group() method to retrieve the actual strings that match the pattern. Calling group() with no arguments or with group(0) returns the entire match. Using group(1), group(2), etc., you can retrieve specific captured groups within parentheses in the regular expression."
   ]
  },
  {
   "cell_type": "code",
   "execution_count": 6,
   "metadata": {},
   "outputs": [
    {
     "name": "stdout",
     "output_type": "stream",
     "text": [
      "Output: Learning\n"
     ]
    }
   ],
   "source": [
    "import re\n",
    "match = re.search('learning','Learning Full Stack Data Science', flags=re.IGNORECASE)\n",
    "print('Output:',match.group())"
   ]
  },
  {
   "attachments": {},
   "cell_type": "markdown",
   "metadata": {},
   "source": [
    "#### 5. In the regex which created from the r'(\\d\\d\\d)-(\\d\\d\\d-\\d\\d\\d\\d)', what does group zero cover? Group 2? Group 1?\n",
    "**Ans:** In the regex created from r'(\\d\\d\\d)-(\\d\\d\\d-\\d\\d\\d\\d)', group zero (group 0) covers the entire matched string. Group 1 covers the first three digits before the hyphen, and group 2 covers the three digits after the hyphen."
   ]
  },
  {
   "cell_type": "code",
   "execution_count": 13,
   "metadata": {},
   "outputs": [
    {
     "name": "stdout",
     "output_type": "stream",
     "text": [
      "('415', '123-4242')\n",
      "415-123-4242\n",
      "415\n",
      "123-4242\n"
     ]
    }
   ],
   "source": [
    "# Example Program\n",
    "import re\n",
    "phoneNumRegex = re.compile(r'(\\d\\d\\d)-(\\d\\d\\d-\\d\\d\\d\\d)')\n",
    "mobile = phoneNumRegex.search('My number is 415-123-4242.')\n",
    "print(mobile.groups()) # Prints all groups in a tuple format\n",
    "print(mobile.group()) # Always returns the fully matched string \n",
    "print(mobile.group(1)) # Returns the first group\n",
    "print(mobile.group(2)) # Returns the second group"
   ]
  },
  {
   "attachments": {},
   "cell_type": "markdown",
   "metadata": {},
   "source": [
    "#### 6. In standard expression syntax, parentheses and intervals have distinct meanings. How can you tell a regex that you want it to fit real parentheses and periods?\n",
    "**Ans:** To match real parentheses and periods in a regex, you need to escape them with a backslash (). For example, to match a literal opening parenthesis, you would use \\(, and to match a literal period, you would use \\.."
   ]
  },
  {
   "cell_type": "code",
   "execution_count": 12,
   "metadata": {},
   "outputs": [
    {
     "name": "stdout",
     "output_type": "stream",
     "text": [
      "(415) 123-4242\n"
     ]
    }
   ],
   "source": [
    "# Example Program\n",
    "import re\n",
    "phoneNumRegex = re.compile(r'(\\(\\d\\d\\d\\)) (\\d\\d\\d-\\d\\d\\d\\d)')\n",
    "mobile = phoneNumRegex.search('My phone number is (415) 123-4242.')\n",
    "print(mobile.group())"
   ]
  },
  {
   "attachments": {},
   "cell_type": "markdown",
   "metadata": {},
   "source": [
    "#### 7. The findall() method returns a string list or a list of string tuples. What causes it to return one of the two options?\n",
    "**Ans:** The findall() method returns a list of all non-overlapping matches of the pattern in the string. If the pattern contains capturing groups (parentheses), it returns a list of tuples, where each tuple represents a match and contains the captured groups. If the pattern does not contain capturing groups, it returns a list of strings representing the matches."
   ]
  },
  {
   "cell_type": "code",
   "execution_count": 14,
   "metadata": {},
   "outputs": [
    {
     "name": "stdout",
     "output_type": "stream",
     "text": [
      "[('(415)', '123-4242')]\n",
      "['415-123-4242']\n"
     ]
    }
   ],
   "source": [
    "# Example Program\n",
    "import re\n",
    "phoneNumRegex = re.compile(r'(\\(\\d\\d\\d\\)) (\\d\\d\\d-\\d\\d\\d\\d)')\n",
    "mobile = phoneNumRegex.findall('My phone number is (415) 123-4242.')\n",
    "print(mobile)\n",
    "\n",
    "# Example Program\n",
    "import re\n",
    "phoneNumRegex = re.compile(r'\\d{3}-\\d{3}-\\d{4}')\n",
    "mobile = phoneNumRegex.findall('My number is 415-123-4242.')\n",
    "print(mobile) # Prints all groups in a tuple format"
   ]
  },
  {
   "attachments": {},
   "cell_type": "markdown",
   "metadata": {},
   "source": [
    "#### 8. In standard expressions, what does the | character mean?\n",
    "**Ans:** In standard expressions, the | character represents the logical OR operation. It is used to specify multiple alternative patterns in a regular expression. It matches either the pattern on its left or the pattern on its right."
   ]
  },
  {
   "attachments": {},
   "cell_type": "markdown",
   "metadata": {},
   "source": [
    "#### 9. In regular expressions, what does the `?` character stand for?\n",
    "**Ans:** In regular Expressions, `?` characters represents zero or one match of the preceeding group."
   ]
  },
  {
   "cell_type": "code",
   "execution_count": 7,
   "metadata": {},
   "outputs": [
    {
     "name": "stdout",
     "output_type": "stream",
     "text": [
      "<re.Match object; span=(0, 6), match='Batman'>\n",
      "<re.Match object; span=(0, 8), match='Batwoman'>\n"
     ]
    }
   ],
   "source": [
    "# Example Program\n",
    "import re\n",
    "match_1 = re.search(\"Bat(wo)?man\",\"Batman returns\")\n",
    "print(match_1)\n",
    "match_2 = re.search(\"Bat(wo)?man\",\"Batwoman returns\")\n",
    "print(match_2)"
   ]
  },
  {
   "attachments": {},
   "cell_type": "markdown",
   "metadata": {},
   "source": [
    "#### 10.In regular expressions, what is the difference between the + and * characters?\n",
    "**Ans:** In Regular Expressions, `*` Represents Zero ore more occurances of the preceeding group, whereas `+` represents one or more occurances of the preceeding group.\n",
    "\n",
    "In the below example, the regular expression pattern \"a*b\" is used to search for a string that starts with zero or more occurrences of \"a\" and ends with \"b\". The target string is \"aaab\". The search() function finds a match starting from index 0 and ending at index 4, matching the substring \"aaab\"."
   ]
  },
  {
   "cell_type": "code",
   "execution_count": 15,
   "metadata": {},
   "outputs": [
    {
     "name": "stdout",
     "output_type": "stream",
     "text": [
      "<re.Match object; span=(0, 4), match='aaab'>\n"
     ]
    }
   ],
   "source": [
    "import re\n",
    "match = re.search(\"a*b\", \"aaab\")\n",
    "print(match)"
   ]
  },
  {
   "attachments": {},
   "cell_type": "markdown",
   "metadata": {},
   "source": [
    "#### 11. What is the difference between {4} and {4,5} in regular expression?\n",
    "**Ans:** In regular expressions, {4} specifies that the preceding element must occur exactly four times. It matches only if the preceding element is repeated exactly four times. {4,5} specifies a range and matches if the preceding element is repeated between four and five times, inclusive."
   ]
  },
  {
   "cell_type": "code",
   "execution_count": 23,
   "metadata": {},
   "outputs": [
    {
     "name": "stdout",
     "output_type": "stream",
     "text": [
      "22-05-1996\n"
     ]
    }
   ],
   "source": [
    "import re\n",
    "pattern = re.compile(r'\\d{2}-\\d{2}-\\d{4}')\n",
    "string = 'My birthday is on 22-05-1996'\n",
    "match = pattern.search(string)\n",
    "print(match.group())"
   ]
  },
  {
   "attachments": {},
   "cell_type": "markdown",
   "metadata": {},
   "source": [
    "#### 12. What do you mean by the \\d, \\w, and \\s shorthand character classes signify in regular expressions?\n",
    "**Ans:** In regular expressions, the shorthand character class \\d represents any digit from 0 to 9. It is equivalent to the character range [0-9]. The shorthand character class \\w represents any alphanumeric character (letter or digit) or underscore. It is equivalent to the character range [a-zA-Z0-9_]. The shorthand character class \\s represents any whitespace character, including spaces, tabs, and newlines.\n",
    "\n"
   ]
  },
  {
   "attachments": {},
   "cell_type": "markdown",
   "metadata": {},
   "source": [
    "#### 13. What do means by \\D, \\W, and \\S shorthand character classes signify in regular expressions?\n",
    "**Ans:**  In regular expressions, the shorthand character classes \\D, \\W, and \\S have the following meanings:\n",
    "        \n",
    "        \\D matches any non-digit character. It is equivalent to the character class [^0-9].\n",
    "        \\W matches any non-alphanumeric character. It is equivalent to the character class [^a-zA-Z0-9_].\n",
    "        \\S matches any non-whitespace character. It is equivalent to the character class [^ \\t\\n\\r\\f\\v].\n",
    "        These shorthand character classes provide a concise way to match specific sets of characters in regular expressions."
   ]
  },
  {
   "attachments": {},
   "cell_type": "markdown",
   "metadata": {},
   "source": [
    "#### 14. What is the difference between `.*?` and `.*`?\n",
    "**Ans:** The difference between .*? and .* lies in their matching behavior:\n",
    "\n",
    "        .*? is a non-greedy or lazy match, which matches as few characters as possible to satisfy the pattern. It matches zero or more occurrences of any character.\n",
    "        .* is a greedy match, which matches as many characters as possible to satisfy the pattern. It also matches zero or more occurrences of any character.\n",
    "        In other words, .*? performs a minimal match, while .* performs a maximal match. The difference is important when used in combination with other pattern elements or when capturing groups are involved.\n",
    "\n"
   ]
  },
  {
   "attachments": {},
   "cell_type": "markdown",
   "metadata": {},
   "source": [
    "#### 15. What is the syntax for matching both numbers and lowercase letters with a character class?\n",
    "**Ans:** The syntax for matching both numbers and lowercase letters with a character class is [0-9a-z]. This character class matches any single character that is a digit from 0 to 9 or a lowercase letter from a to z. You can use this character class within your regular expression pattern to match a combination of numbers and lowercase letters."
   ]
  },
  {
   "attachments": {},
   "cell_type": "markdown",
   "metadata": {},
   "source": [
    "#### 16. What is the procedure for making a normal expression in regax case insensitive?\n",
    "**Ans:** To make a regular expression case insensitive in Python, you can use the re.IGNORECASE flag or re.I as the second argument to re.compile() or as an additional argument to the re.search(), re.match(), or other regex functions. \n",
    "\n",
    "By including the re.IGNORECASE flag, the regular expression pattern will match regardless of the case of the letters in the target string."
   ]
  },
  {
   "cell_type": "code",
   "execution_count": 24,
   "metadata": {},
   "outputs": [],
   "source": [
    "import re\n",
    "pattern = re.compile(r'some pattern', re.IGNORECASE)"
   ]
  },
  {
   "attachments": {},
   "cell_type": "markdown",
   "metadata": {},
   "source": [
    "#### 17. What does the . character normally match? What does it match if re.DOTALL is passed as 2nd argument in re.compile()?\n",
    "**Ans:** \n",
    "\n",
    "In regular expressions, the . (dot) character normally matches any character except a newline (\\n). It is called a wildcard character. However, if the re.DOTALL flag is passed as the second argument to re.compile(), then the dot character will match any character, including a newline."
   ]
  },
  {
   "attachments": {},
   "cell_type": "markdown",
   "metadata": {},
   "source": [
    "#### 18. If numReg = re.compile(r'\\d+'), what will numRegex.sub('X', '11 drummers, 10 pipers, five rings, 4 hen') return?\n",
    "**Ans:** If numRegex = re.compile(r'\\d+'), then numRegex.sub('X', '11 drummers, 10 pipers, five rings, 4 hen') will return the string 'X drummers, X pipers, five rings, X hen'. The sub() method replaces all matches of the pattern in the target string with the specified replacement string, in this case, 'X'."
   ]
  },
  {
   "cell_type": "code",
   "execution_count": 10,
   "metadata": {},
   "outputs": [
    {
     "data": {
      "text/plain": [
       "'X drummers, X pipers, five rings, X hen'"
      ]
     },
     "execution_count": 10,
     "metadata": {},
     "output_type": "execute_result"
    }
   ],
   "source": [
    "import re\n",
    "numReg = re.compile(r'\\d+')\n",
    "numReg.sub('X', '11 drummers, 10 pipers, five rings, 4 hen')"
   ]
  },
  {
   "attachments": {},
   "cell_type": "markdown",
   "metadata": {},
   "source": [
    "#### 19. What does passing re.VERBOSE as the 2nd argument to re.compile() allow to do?\n",
    "**Ans:** Passing re.VERBOSE as the second argument to re.compile() allows you to create more readable and organized regular expressions by ignoring whitespace and adding comments. This flag enables \"verbose mode\" and allows you to include comments and extra whitespace within the regular expression pattern. It helps to improve the readability and maintainability of complex regex patterns."
   ]
  },
  {
   "cell_type": "code",
   "execution_count": 11,
   "metadata": {},
   "outputs": [],
   "source": [
    "# Without Using VERBOSE\n",
    "regex_email = re.compile(r'^([a-z0-9_\\.-]+)@([0-9a-z\\.-]+)\\.([a-z\\.]{2, 6})$', re.IGNORECASE)\n",
    " \n",
    "# Using VERBOSE\n",
    "regex_email = re.compile(r\"\"\"\n",
    "                            ^([a-z0-9_\\.-]+)              # local Part like username\n",
    "                            @                             # single @ sign \n",
    "                            ([0-9a-z\\.-]+)                # Domain name like google\n",
    "                            \\.                            # single Dot .\n",
    "                            ([a-z]{2,6})$                 # Top level Domain  like com/in/org\n",
    "                         \"\"\",re.VERBOSE | re.IGNORECASE)   "
   ]
  },
  {
   "attachments": {},
   "cell_type": "markdown",
   "metadata": {},
   "source": [
    "#### 20. How would you write a regex that match a number with comma for every three digits? It must match the given following:\n",
    "        To match a number with commas every three digits, you can use the following regular expression pattern:\n",
    "\n",
    "        This pattern matches strings that start with one to three digits, followed by zero or more occurrences of a comma followed by exactly three digits. The ^ and $ anchors ensure that the pattern matches the entire string from start to end."
   ]
  },
  {
   "cell_type": "code",
   "execution_count": 26,
   "metadata": {},
   "outputs": [],
   "source": [
    "import re\n",
    "pattern = re.compile(r'^\\d{1,3}(,\\d{3})*$')\n"
   ]
  },
  {
   "attachments": {},
   "cell_type": "markdown",
   "metadata": {},
   "source": [
    "#### 21. How would you write a regex that matches the full name of someone whose last name is Watanabe? You can assume that the first name that comes before it will always be one word that begins with a capital letter. The regex must match the following:\n",
    "        'Haruto Watanabe'\n",
    "        'Alice Watanabe'\n",
    "        'RoboCop Watanabe'\n",
    "        but not the following:\n",
    "        'haruto Watanabe' (where the first name is not capitalized)\n",
    "        'Mr. Watanabe' (where the preceding word has a nonletter character)\n",
    "        'Watanabe' (which has no first name)\n",
    "        'Haruto watanabe' (where Watanabe is not capitalized)\n",
    "\n",
    "**Ans:** ** \n",
    "        \n",
    "        import re\n",
    "        pattern = re.compile(r'[A-Z][a-zA-Z]*\\sWatanabe')\n",
    "\n",
    "        This pattern matches a capital letter followed by zero or more lowercase letters for the first name, followed by a whitespace character, and then the last name \"Watanabe\".\n"
   ]
  },
  {
   "cell_type": "code",
   "execution_count": 13,
   "metadata": {},
   "outputs": [
    {
     "name": "stdout",
     "output_type": "stream",
     "text": [
      "Output:  Haruto Watanabe -> <re.Match object; span=(0, 15), match='Haruto Watanabe'>\n",
      "Output:  Alice Watanabe -> <re.Match object; span=(0, 14), match='Alice Watanabe'>\n",
      "Output:  RoboCop Watanabe -> <re.Match object; span=(4, 16), match='Cop Watanabe'>\n",
      "Output:  haruto Watanabe -> None\n",
      "Output:  Mr. Watanabe -> None\n",
      "Output:  Watanabe -> None\n",
      "Output:  Haruto watanabe -> None\n"
     ]
    }
   ],
   "source": [
    "import re\n",
    "pattern = r'[A-Z]{1}[a-z]*\\sWatanabe'\n",
    "namex = re.compile(pattern)\n",
    "for name in ['Haruto Watanabe','Alice Watanabe','RoboCop Watanabe','haruto Watanabe','Mr. Watanabe','Watanabe','Haruto watanabe']:\n",
    "    print('Output: ',name,'->',namex.search(name))"
   ]
  },
  {
   "attachments": {},
   "cell_type": "markdown",
   "metadata": {},
   "source": [
    "#### How would you write a regex that matches a sentence where the first word is either Alice, Bob, or Carol; the second word is either eats, pets, or throws; the third word is apples, cats, or baseballs; and the sentence ends with a period? This regex should be case-insensitive. It must match the following:\n",
    "\n",
    "        'Alice eats apples.'\n",
    "        'Bob pets cats.'\n",
    "        'Carol throws baseballs.'\n",
    "        'Alice throws Apples.'\n",
    "        'BOB EATS CATS.'\n",
    "        but not the following:\n",
    "        'RoboCop eats apples.'\n",
    "        'ALICE THROWS FOOTBALLS.'\n",
    "        'Carol eats 7 cats.' \n",
    "\n",
    "**Ans:** pattern = **`r'(Alice|Bob|Carol)\\s(eats|pets|throws)\\s(apples|cats|baseballs)\\.'`**"
   ]
  },
  {
   "cell_type": "code",
   "execution_count": 27,
   "metadata": {},
   "outputs": [],
   "source": [
    "import re\n",
    "pattern = re.compile(r'(Alice|Bob|Carol)\\s(eats|pets|throws)\\s(apples|cats|baseballs)\\.')\n"
   ]
  },
  {
   "cell_type": "code",
   "execution_count": 28,
   "metadata": {},
   "outputs": [
    {
     "name": "stdout",
     "output_type": "stream",
     "text": [
      "Match found!\n",
      "First name: Alice\n",
      "Action: eats\n",
      "Object: apples\n"
     ]
    }
   ],
   "source": [
    "import re\n",
    "pattern = re.compile(r'(Alice|Bob|Carol)\\s(eats|pets|throws)\\s(apples|cats|baseballs)\\.')\n",
    "\n",
    "sentence = \"Alice eats apples.\"\n",
    "match = pattern.search(sentence)\n",
    "\n",
    "if match:\n",
    "    print(\"Match found!\")\n",
    "    print(\"First name:\", match.group(1))\n",
    "    print(\"Action:\", match.group(2))\n",
    "    print(\"Object:\", match.group(3))\n",
    "else:\n",
    "    print(\"No match found.\")\n"
   ]
  }
 ],
 "metadata": {
  "kernelspec": {
   "display_name": "Python 3",
   "language": "python",
   "name": "python3"
  },
  "language_info": {
   "codemirror_mode": {
    "name": "ipython",
    "version": 3
   },
   "file_extension": ".py",
   "mimetype": "text/x-python",
   "name": "python",
   "nbconvert_exporter": "python",
   "pygments_lexer": "ipython3",
   "version": "3.10.0"
  }
 },
 "nbformat": 4,
 "nbformat_minor": 4
}
