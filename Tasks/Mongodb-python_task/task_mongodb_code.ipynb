{
 "cells": [
  {
   "cell_type": "markdown",
   "metadata": {},
   "source": [
    "MONGODB with Python using Caron Nanotubes data"
   ]
  },
  {
   "cell_type": "code",
   "execution_count": 1,
   "metadata": {},
   "outputs": [
    {
     "name": "stdout",
     "output_type": "stream",
     "text": [
      "Requirement already satisfied: pymongo[srv] in c:\\users\\haripriya\\appdata\\local\\programs\\python\\python310\\lib\\site-packages (4.0.1)\n",
      "Requirement already satisfied: dnspython<3.0.0,>=1.16.0 in c:\\users\\haripriya\\appdata\\local\\programs\\python\\python310\\lib\\site-packages (from pymongo[srv]) (2.2.0)\n"
     ]
    },
    {
     "name": "stderr",
     "output_type": "stream",
     "text": [
      "WARNING: You are using pip version 21.2.3; however, version 22.0.3 is available.\n",
      "You should consider upgrading via the 'C:\\Users\\Haripriya\\AppData\\Local\\Programs\\Python\\Python310\\python.exe -m pip install --upgrade pip' command.\n"
     ]
    }
   ],
   "source": [
    "# Installing the required Package\n",
    "!pip install pymongo[srv]"
   ]
  },
  {
   "cell_type": "markdown",
   "metadata": {},
   "source": [
    "1. Converting a CSV file to Json File"
   ]
  },
  {
   "cell_type": "code",
   "execution_count": 1,
   "metadata": {},
   "outputs": [],
   "source": [
    "# importing modules\n",
    "import pymongo\n",
    "import csv\n",
    "import json\n",
    "import logging\n",
    "import os\n",
    "\n",
    "# Create and configure logger\n",
    "logging.root.setLevel(logging.NOTSET)\n",
    "logging.basicConfig(filename=\"newfile1.log\", format='%(asctime)s %(levelname)s-%(message)s',filemode='a',datefmt='%Y-%m-%d %H:%M:%S',level=logging.NOTSET)\n",
    "logger = logging.getLogger(__name__)\n",
    "\n",
    "# Establish a connection with mongoDB\n",
    "try:\n",
    "    client = pymongo.MongoClient(\"mongodb+srv://<username>:<password>@cluster0.ywy0u.mongodb.net/myFirstDatabase?retryWrites=true&w=majority\")\n",
    "    db = client.test\n",
    "    logging.info(\"Connected with MongoDB\")\n",
    "\n",
    "    try:\n",
    "        # creating database and collection\n",
    "        db1 =client[\"task\"]\n",
    "        \n",
    "        collection1 =db1[\"carbon_nano_task\"]\n",
    "        \n",
    "        with open ('carbon_nanotubes.csv', 'r') as f:\n",
    "            reader = csv.reader(f, delimiter = \";\")\n",
    "            next(reader)\n",
    "            data =[]\n",
    "            for row in reader:\n",
    "                data.append({\"Chiral indice n\":row[0],\"Chiral indice m\":row[1],\"Initial atomic coordinate u\":row[2],\"Initial atomic coordinate v\":row[3],\"Initial atomic coordinate w\":row[4],\"Calculated atomic coordinates u'\":row[5],\"Calculated atomic coordinates v'\":row[6],\"Calculated atomic coordinates w'\":row[7]})\n",
    "        \n",
    "        with open(\"carbon_nanotubes.json\",\"w\") as f:\n",
    "            json.dump(data,f, indent=4)\n",
    "            logger.info(\"Json file is created for carbon nanotubes.csv file\")\n",
    "\n",
    "    except Exception as e:\n",
    "        print(e)\n",
    "        \n",
    "except Exception as e:\n",
    "    logging.error(e)\n",
    "    "
   ]
  },
  {
   "cell_type": "markdown",
   "metadata": {},
   "source": [
    "2. Inserting Carbon_nanotubes.json file into the created database"
   ]
  },
  {
   "cell_type": "code",
   "execution_count": 2,
   "metadata": {},
   "outputs": [],
   "source": [
    "with open('carbon_nanotubes.json') as file:\n",
    "    file_data = json.load(file)\n",
    "      \n",
    "# Inserting the loaded data in the Collection\n",
    "# if JSON contains data more than one entry\n",
    "# insert_many is used else inser_one is used\n",
    "try:\n",
    "    if isinstance(file_data, list):\n",
    "        collection1.insert_many(file_data)  \n",
    "        logging.info(\"Many documents inserted from carbon nanotubes\")\n",
    "    else:\n",
    "        collection1.insert_one(file_data)\n",
    "\n",
    "except Exception as e:\n",
    "    print(e)"
   ]
  },
  {
   "cell_type": "code",
   "execution_count": 3,
   "metadata": {},
   "outputs": [
    {
     "name": "stdout",
     "output_type": "stream",
     "text": [
      "{'_id': ObjectId('62136fa67edbdf5dab1913fe'), 'Chiral indice n': '2', 'Chiral indice m': '1', 'Initial atomic coordinate u': '0,679005', 'Initial atomic coordinate v': '0,701318', 'Initial atomic coordinate w': '0,017033', \"Calculated atomic coordinates u'\": '0,721039', \"Calculated atomic coordinates v'\": '0,730232', \"Calculated atomic coordinates w'\": '0,017014'}\n",
      "{'_id': ObjectId('62136fa67edbdf5dab1913ff'), 'Chiral indice n': '2', 'Chiral indice m': '1', 'Initial atomic coordinate u': '0,717298', 'Initial atomic coordinate v': '0,642129', 'Initial atomic coordinate w': '0,231319', \"Calculated atomic coordinates u'\": '0,738414', \"Calculated atomic coordinates v'\": '0,65675', \"Calculated atomic coordinates w'\": '0,232369'}\n",
      "{'_id': ObjectId('62136fa67edbdf5dab191400'), 'Chiral indice n': '2', 'Chiral indice m': '1', 'Initial atomic coordinate u': '0,489336', 'Initial atomic coordinate v': '0,303751', 'Initial atomic coordinate w': '0,088462', \"Calculated atomic coordinates u'\": '0,477676', \"Calculated atomic coordinates v'\": '0,263221', \"Calculated atomic coordinates w'\": '0,088712'}\n",
      "{'_id': ObjectId('62136fa67edbdf5dab191401'), 'Chiral indice n': '2', 'Chiral indice m': '1', 'Initial atomic coordinate u': '0,413957', 'Initial atomic coordinate v': '0,632996', 'Initial atomic coordinate w': '0,040843', \"Calculated atomic coordinates u'\": '0,408823', \"Calculated atomic coordinates v'\": '0,657897', \"Calculated atomic coordinates w'\": '0,039796'}\n",
      "{'_id': ObjectId('62136fa67edbdf5dab191402'), 'Chiral indice n': '2', 'Chiral indice m': '1', 'Initial atomic coordinate u': '0,334292', 'Initial atomic coordinate v': '0,543401', 'Initial atomic coordinate w': '0,15989', \"Calculated atomic coordinates u'\": '0,303349', \"Calculated atomic coordinates v'\": '0,558807', \"Calculated atomic coordinates w'\": '0,157373'}\n",
      "{'_id': ObjectId('62136fa67edbdf5dab191403'), 'Chiral indice n': '2', 'Chiral indice m': '1', 'Initial atomic coordinate u': '0,510664', 'Initial atomic coordinate v': '0,696249', 'Initial atomic coordinate w': '0,255128', \"Calculated atomic coordinates u'\": '0,496977', \"Calculated atomic coordinates v'\": '0,725608', \"Calculated atomic coordinates w'\": '0,25597'}\n",
      "{'_id': ObjectId('62136fa67edbdf5dab191404'), 'Chiral indice n': '2', 'Chiral indice m': '1', 'Initial atomic coordinate u': '0,413957', 'Initial atomic coordinate v': '0,632996', 'Initial atomic coordinate w': '0,374176', \"Calculated atomic coordinates u'\": '0,390878', \"Calculated atomic coordinates v'\": '0,657645', \"Calculated atomic coordinates w'\": '0,374735'}\n",
      "{'_id': ObjectId('62136fa67edbdf5dab191405'), 'Chiral indice n': '2', 'Chiral indice m': '1', 'Initial atomic coordinate u': '0,712552', 'Initial atomic coordinate v': '0,55479', 'Initial atomic coordinate w': '0,112271', \"Calculated atomic coordinates u'\": '0,750056', \"Calculated atomic coordinates v'\": '0,561494', \"Calculated atomic coordinates w'\": '0,114944'}\n",
      "{'_id': ObjectId('62136fa67edbdf5dab191406'), 'Chiral indice n': '2', 'Chiral indice m': '1', 'Initial atomic coordinate u': '0,320995', 'Initial atomic coordinate v': '0,298682', 'Initial atomic coordinate w': '0,1837', \"Calculated atomic coordinates u'\": '0,281301', \"Calculated atomic coordinates v'\": '0,261433', \"Calculated atomic coordinates w'\": '0,182779'}\n",
      "{'_id': ObjectId('62136fa67edbdf5dab191407'), 'Chiral indice n': '2', 'Chiral indice m': '1', 'Initial atomic coordinate u': '0,394742', 'Initial atomic coordinate v': '0,279367', 'Initial atomic coordinate w': '0,302747', \"Calculated atomic coordinates u'\": '0,35086', \"Calculated atomic coordinates v'\": '0,2335', \"Calculated atomic coordinates w'\": '0,302196'}\n"
     ]
    }
   ],
   "source": [
    "# Displays all the inserted data with limit of 10 for preview\n",
    "for i in collection1.find().limit(10):\n",
    "    print(i)"
   ]
  },
  {
   "cell_type": "markdown",
   "metadata": {},
   "source": [
    "3. Inserting, Updating, Deleting the documents in Database"
   ]
  },
  {
   "cell_type": "code",
   "execution_count": 4,
   "metadata": {},
   "outputs": [],
   "source": [
    "# Creating a class Mongodb and objects to perform operations with respect to mongodb\n",
    "class Mongodb:\n",
    "\n",
    "    def mongoInsertone(self,d) :\n",
    "        try:\n",
    "            collection1.insert_one(d)\n",
    "            logging.info(\"New document inserted\")\n",
    "        except Exception as e:\n",
    "            logging.error(e)\n",
    "\n",
    "    def mongoInsertmany(self,d) :\n",
    "        try:\n",
    "            collection1.insert_many(d)\n",
    "            logging.info(\"New list of documents inserted\")\n",
    "        except Exception as e:\n",
    "            logging.error(e)\n",
    "\n",
    "    def mongoUpdateone(self,d1,d2) :\n",
    "        try:\n",
    "            collection1.update_one(d1,d2)\n",
    "            logging.info(\"A document is updated\")\n",
    "        except Exception as e:\n",
    "            logging.error(e)\n",
    "\n",
    "    def mongoUpdatemany(self,d1,d2) :\n",
    "        try:\n",
    "            collection1.update_many(d1,d2)\n",
    "            logging.info(\"One or more documents is updated\")\n",
    "        except Exception as e:\n",
    "            logging.error(e)\n",
    "\n",
    "    def mongoDeleteone(self,d) :\n",
    "        try:\n",
    "            collection1.delete_one(d)\n",
    "            logging.info(\"A document is deleted\")\n",
    "        except Exception as e:\n",
    "            logging.error(e)\n",
    "\n",
    "    def mongoDeletemany(self,d) :\n",
    "        try:\n",
    "            collection1.delete_many(d)\n",
    "            logging.info(\"One or more document is deleted\")\n",
    "        except Exception as e:\n",
    "            logging.error(e)"
   ]
  },
  {
   "cell_type": "code",
   "execution_count": 5,
   "metadata": {},
   "outputs": [],
   "source": [
    "# Creating an Object for Class Mongodb\n",
    "\n",
    "obj = Mongodb()"
   ]
  },
  {
   "cell_type": "markdown",
   "metadata": {},
   "source": [
    "3.1 Insertion -Insert one"
   ]
  },
  {
   "cell_type": "code",
   "execution_count": 6,
   "metadata": {},
   "outputs": [],
   "source": [
    "# Creating data(input) for Insertion\n",
    "data1 ={\n",
    "        \"_id\": 1478,\n",
    "        \"Chiral indice n\": \"15\",\n",
    "        \"Chiral indice m\":\"9\",\n",
    "        \"Initial atomic coordinate u\":\"0,598\",\n",
    "        \"Initial atomic coordinate v\":\"0,123\",\n",
    "        \"Initial atomic coordinate w\":\"0,2545\",\n",
    "        \"Calculated atomic coordinates u'\":\"0,729\",\n",
    "        \"Calculated atomic coordinates v'\":\"0,77872\",\n",
    "        \"Calculated atomic coordinates w'\":\"0,0179564\"\n",
    "        }\n",
    "        \n",
    "data2 ={\n",
    "            \"_id\": \"123\",\n",
    "            \"Chiral indice n\": \"21\",\n",
    "            \"Chiral indice m\": \"1\",\n",
    "            \"Initial atomic coordinate u\": \"0,67905\",\n",
    "            \"Initial atomic coordinate v\": \"0,70118\",\n",
    "            \"Initial atomic coordinate w\": \"0,0173\",\n",
    "            \"Calculated atomic coordinates u'\": \"0,7039\",\n",
    "            \"Calculated atomic coordinates v'\": \"0,7302\",\n",
    "            \"Calculated atomic coordinates w'\": \"0,0174\"\n",
    "        }\n"
   ]
  },
  {
   "cell_type": "code",
   "execution_count": 7,
   "metadata": {},
   "outputs": [],
   "source": [
    "# Calling the object of class for Inserting a document\n",
    "obj.mongoInsertone(data1)"
   ]
  },
  {
   "cell_type": "code",
   "execution_count": 8,
   "metadata": {},
   "outputs": [
    {
     "name": "stdout",
     "output_type": "stream",
     "text": [
      "{'_id': 1478, 'Chiral indice n': '15', 'Chiral indice m': '9', 'Initial atomic coordinate u': '0,598', 'Initial atomic coordinate v': '0,123', 'Initial atomic coordinate w': '0,2545', \"Calculated atomic coordinates u'\": '0,729', \"Calculated atomic coordinates v'\": '0,77872', \"Calculated atomic coordinates w'\": '0,0179564'}\n"
     ]
    }
   ],
   "source": [
    "for i in collection1.find({\"Chiral indice n\": \"15\"}):\n",
    "    print(i)"
   ]
  },
  {
   "cell_type": "markdown",
   "metadata": {},
   "source": [
    "Insertion -Insert Many"
   ]
  },
  {
   "cell_type": "code",
   "execution_count": 9,
   "metadata": {},
   "outputs": [],
   "source": [
    "# Creating data (input) for Insertion\n",
    "data3 = [\n",
    "        {   \"_id\" :111,\n",
    "            \"item\": \"Pen\",\n",
    "            \"qty\": 100,\n",
    "            \"size\": {\"h\": 28, \"w\": 35.5, \"len\": \"20 cm\"},\n",
    "            \"status\": \"buy\",\n",
    "        },\n",
    "        {\n",
    "            \"_id\": 112,\n",
    "            \"item\": \"Pencil\",\n",
    "            \"qty\": 25,\n",
    "            \"size\": {\"h\": 14, \"w\": 21, \"len\": \"15 cm\"},\n",
    "            \"status\": \"sell\",\n",
    "        },\n",
    "        {\n",
    "            \"_id\": 113,\n",
    "            \"item\": \"Notebook\",\n",
    "            \"qty\": 85,\n",
    "            \"size\": {\"h\": 27.9, \"w\": 35.5, \"len\": \" 30 cm\"},\n",
    "            \"status\": \"Sell\",\n",
    "        },\n",
    "        {\n",
    "            \"_id\": 114,\n",
    "            \"item\": \"Eraser\",\n",
    "            \"qty\": 25,\n",
    "            \"size\": {\"h\": 19, \"w\": 22.85, \"len\": \"4 cm\"},\n",
    "            \"status\": \"buy\",\n",
    "        }]"
   ]
  },
  {
   "cell_type": "code",
   "execution_count": 10,
   "metadata": {},
   "outputs": [],
   "source": [
    "# Calling the object of class for Inserting many document\n",
    "obj.mongoInsertmany(data3)"
   ]
  },
  {
   "cell_type": "code",
   "execution_count": 11,
   "metadata": {},
   "outputs": [
    {
     "name": "stdout",
     "output_type": "stream",
     "text": [
      "{'_id': 111, 'item': 'Pen', 'qty': 100, 'size': {'h': 28, 'w': 35.5, 'len': '20 cm'}, 'status': 'buy'}\n",
      "{'_id': 112, 'item': 'Pencil', 'qty': 25, 'size': {'h': 14, 'w': 21, 'len': '15 cm'}, 'status': 'sell'}\n",
      "{'_id': 113, 'item': 'Notebook', 'qty': 85, 'size': {'h': 27.9, 'w': 35.5, 'len': ' 30 cm'}, 'status': 'Sell'}\n",
      "{'_id': 114, 'item': 'Eraser', 'qty': 25, 'size': {'h': 19, 'w': 22.85, 'len': '4 cm'}, 'status': 'buy'}\n",
      "{'_id': 1478, 'Chiral indice n': '15', 'Chiral indice m': '9', 'Initial atomic coordinate u': '0,598', 'Initial atomic coordinate v': '0,123', 'Initial atomic coordinate w': '0,2545', \"Calculated atomic coordinates u'\": '0,729', \"Calculated atomic coordinates v'\": '0,77872', \"Calculated atomic coordinates w'\": '0,0179564'}\n"
     ]
    }
   ],
   "source": [
    "for i in collection1.find({\"_id\" :{'$gt' : 100 }}):\n",
    "    print(i)"
   ]
  },
  {
   "cell_type": "markdown",
   "metadata": {},
   "source": [
    "3.2 Updation -Update one"
   ]
  },
  {
   "cell_type": "code",
   "execution_count": 12,
   "metadata": {},
   "outputs": [],
   "source": [
    "# Getting input for updation\n",
    "before_update ={\"item\": \"Pen\"}\n",
    "after_update ={'$set': {\"qty\": 1500}}\n",
    "\n",
    "# Calling the object of class for Updating a document\n",
    "obj.mongoUpdateone(before_update,after_update)"
   ]
  },
  {
   "cell_type": "code",
   "execution_count": 13,
   "metadata": {},
   "outputs": [
    {
     "name": "stdout",
     "output_type": "stream",
     "text": [
      "{'_id': 111, 'item': 'Pen', 'qty': 1500, 'size': {'h': 28, 'w': 35.5, 'len': '20 cm'}, 'status': 'buy'}\n",
      "{'_id': 112, 'item': 'Pencil', 'qty': 25, 'size': {'h': 14, 'w': 21, 'len': '15 cm'}, 'status': 'sell'}\n",
      "{'_id': 113, 'item': 'Notebook', 'qty': 85, 'size': {'h': 27.9, 'w': 35.5, 'len': ' 30 cm'}, 'status': 'Sell'}\n",
      "{'_id': 114, 'item': 'Eraser', 'qty': 25, 'size': {'h': 19, 'w': 22.85, 'len': '4 cm'}, 'status': 'buy'}\n",
      "{'_id': 1478, 'Chiral indice n': '15', 'Chiral indice m': '9', 'Initial atomic coordinate u': '0,598', 'Initial atomic coordinate v': '0,123', 'Initial atomic coordinate w': '0,2545', \"Calculated atomic coordinates u'\": '0,729', \"Calculated atomic coordinates v'\": '0,77872', \"Calculated atomic coordinates w'\": '0,0179564'}\n"
     ]
    }
   ],
   "source": [
    "for i in collection1.find({\"_id\" :{'$gt' : 100 }}):\n",
    "    print(i)"
   ]
  },
  {
   "cell_type": "markdown",
   "metadata": {},
   "source": [
    "Updation- Update Many"
   ]
  },
  {
   "cell_type": "code",
   "execution_count": 14,
   "metadata": {},
   "outputs": [],
   "source": [
    "# Getting input for updation\n",
    "before_update ={\"qty\": {'$gte' :50}}\n",
    "after_update ={'$set': {\"qty\": 1500}}\n",
    "\n",
    "# Calling the object of class for Updating many documents\n",
    "obj.mongoUpdatemany(before_update,after_update)"
   ]
  },
  {
   "cell_type": "code",
   "execution_count": 15,
   "metadata": {},
   "outputs": [
    {
     "name": "stdout",
     "output_type": "stream",
     "text": [
      "{'_id': 111, 'item': 'Pen', 'qty': 1500, 'size': {'h': 28, 'w': 35.5, 'len': '20 cm'}, 'status': 'buy'}\n",
      "{'_id': 112, 'item': 'Pencil', 'qty': 25, 'size': {'h': 14, 'w': 21, 'len': '15 cm'}, 'status': 'sell'}\n",
      "{'_id': 113, 'item': 'Notebook', 'qty': 1500, 'size': {'h': 27.9, 'w': 35.5, 'len': ' 30 cm'}, 'status': 'Sell'}\n",
      "{'_id': 114, 'item': 'Eraser', 'qty': 25, 'size': {'h': 19, 'w': 22.85, 'len': '4 cm'}, 'status': 'buy'}\n",
      "{'_id': 1478, 'Chiral indice n': '15', 'Chiral indice m': '9', 'Initial atomic coordinate u': '0,598', 'Initial atomic coordinate v': '0,123', 'Initial atomic coordinate w': '0,2545', \"Calculated atomic coordinates u'\": '0,729', \"Calculated atomic coordinates v'\": '0,77872', \"Calculated atomic coordinates w'\": '0,0179564'}\n"
     ]
    }
   ],
   "source": [
    "# Finding from the collection where id is greater than 100\n",
    "for i in collection1.find({\"_id\" :{'$gt' : 100 }}):\n",
    "    print(i)"
   ]
  },
  {
   "cell_type": "markdown",
   "metadata": {},
   "source": [
    "3.3 Deletion -Delete One"
   ]
  },
  {
   "cell_type": "code",
   "execution_count": 16,
   "metadata": {},
   "outputs": [],
   "source": [
    "# Getting input for deletion\n",
    "to_delete ={'qty': {'$gt' : 500}}\n",
    "\n",
    "# Calling the object of class for deleting a document\n",
    "obj.mongoDeleteone(to_delete)"
   ]
  },
  {
   "cell_type": "code",
   "execution_count": 17,
   "metadata": {},
   "outputs": [
    {
     "name": "stdout",
     "output_type": "stream",
     "text": [
      "{'_id': 112, 'item': 'Pencil', 'qty': 25, 'size': {'h': 14, 'w': 21, 'len': '15 cm'}, 'status': 'sell'}\n",
      "{'_id': 113, 'item': 'Notebook', 'qty': 1500, 'size': {'h': 27.9, 'w': 35.5, 'len': ' 30 cm'}, 'status': 'Sell'}\n",
      "{'_id': 114, 'item': 'Eraser', 'qty': 25, 'size': {'h': 19, 'w': 22.85, 'len': '4 cm'}, 'status': 'buy'}\n",
      "{'_id': 1478, 'Chiral indice n': '15', 'Chiral indice m': '9', 'Initial atomic coordinate u': '0,598', 'Initial atomic coordinate v': '0,123', 'Initial atomic coordinate w': '0,2545', \"Calculated atomic coordinates u'\": '0,729', \"Calculated atomic coordinates v'\": '0,77872', \"Calculated atomic coordinates w'\": '0,0179564'}\n"
     ]
    }
   ],
   "source": [
    "# Finding from the collection where id is greater than 100\n",
    "for i in collection1.find({\"_id\" :{'$gt' : 100 }}):\n",
    "    print(i)"
   ]
  },
  {
   "cell_type": "markdown",
   "metadata": {},
   "source": [
    "Deletion- Delete Many"
   ]
  },
  {
   "cell_type": "code",
   "execution_count": 18,
   "metadata": {},
   "outputs": [],
   "source": [
    "# Getting input for deletion\n",
    "to_delete ={'qty': {'$lt' : 1600}}\n",
    "\n",
    "# Calling the object of class for Deleting many documents\n",
    "obj.mongoDeletemany(to_delete)"
   ]
  },
  {
   "cell_type": "code",
   "execution_count": 19,
   "metadata": {},
   "outputs": [
    {
     "name": "stdout",
     "output_type": "stream",
     "text": [
      "{'_id': 1478, 'Chiral indice n': '15', 'Chiral indice m': '9', 'Initial atomic coordinate u': '0,598', 'Initial atomic coordinate v': '0,123', 'Initial atomic coordinate w': '0,2545', \"Calculated atomic coordinates u'\": '0,729', \"Calculated atomic coordinates v'\": '0,77872', \"Calculated atomic coordinates w'\": '0,0179564'}\n"
     ]
    }
   ],
   "source": [
    "# Finding from the collection where id is greater than 100\n",
    "for i in collection1.find({\"_id\" :{'$gt' : 100 }}):\n",
    "    print(i)"
   ]
  },
  {
   "cell_type": "markdown",
   "metadata": {},
   "source": [
    "************************     END     ***************************"
   ]
  }
 ],
 "metadata": {
  "interpreter": {
   "hash": "2d07a957054fb84f2413b2bee65b1d4dfd474a0a541314c08eee4860c1ad5c87"
  },
  "kernelspec": {
   "display_name": "Python 3 (ipykernel)",
   "language": "python",
   "name": "python3"
  },
  "language_info": {
   "codemirror_mode": {
    "name": "ipython",
    "version": 3
   },
   "file_extension": ".py",
   "mimetype": "text/x-python",
   "name": "python",
   "nbconvert_exporter": "python",
   "pygments_lexer": "ipython3",
   "version": "3.9.7"
  }
 },
 "nbformat": 4,
 "nbformat_minor": 2
}
